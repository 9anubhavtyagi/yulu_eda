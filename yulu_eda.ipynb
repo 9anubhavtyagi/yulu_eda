{
 "cells": [
  {
   "cell_type": "markdown",
   "metadata": {},
   "source": [
    "# Problem - Statement"
   ]
  },
  {
   "cell_type": "markdown",
   "metadata": {},
   "source": [
    "## About Yulu\n",
    "\n",
    "Yulu is India’s leading micro-mobility service provider, which offers unique vehicles for the daily commute. Starting off as a mission to eliminate traffic congestion in India, Yulu provides the safest commute solution through a user-friendly mobile app to enable shared, solo and sustainable commuting.\n",
    "\n",
    "Yulu zones are located at all the appropriate locations (including metro stations, bus stands, office spaces, residential areas, corporate offices, etc) to make those first and last miles smooth, affordable, and convenient!\n",
    "\n",
    "Yulu has recently suffered considerable dips in its revenues. They have contracted a consulting company to understand the factors on which the demand for these shared electric cycles depends. Specifically, they want to understand the factors affecting the demand for these shared electric cycles in the Indian market.\n",
    "\n",
    "## How you can help here?\n",
    "\n",
    "The company wants to know:\n",
    "\n",
    "1. Which variables are significant in predicting the demand for shared electric cycles in the Indian market?\n",
    "2. How well those variables describe the electric cycle demands?"
   ]
  },
  {
   "cell_type": "markdown",
   "metadata": {},
   "source": [
    "# Module Imports and Dataset"
   ]
  },
  {
   "cell_type": "markdown",
   "metadata": {},
   "source": [
    "## Modules"
   ]
  },
  {
   "cell_type": "code",
   "execution_count": null,
   "metadata": {},
   "outputs": [],
   "source": [
    "import numpy as np\n",
    "import pandas as pd\n",
    "import seaborn as sns\n",
    "from matplotlib import pyplot as plt\n",
    "\n",
    "from scipy import stats"
   ]
  },
  {
   "cell_type": "markdown",
   "metadata": {},
   "source": [
    "## Datasets"
   ]
  },
  {
   "cell_type": "code",
   "execution_count": null,
   "metadata": {},
   "outputs": [],
   "source": [
    "df = pd.read_csv('yulu.csv')\n",
    "df.info()"
   ]
  },
  {
   "cell_type": "markdown",
   "metadata": {},
   "source": [
    "**`Columns Description`**\n",
    "\n",
    "| Column     | Description                                                                           |\n",
    "|------------|---------------------------------------------------------------------------------------|\n",
    "| `datetime` | datetime                                                                              |\n",
    "| **`season`**   | **season (1: spring, 2: summer, 3: fall, 4: winter)**                                 |\n",
    "| `holiday`  | whether day is a holiday or not (extracted from [holiday schedule](http://dchr.dc.gov/page/holiday-schedule)) |\n",
    "| `workingday`| if day is neither weekend nor holiday is 1, otherwise is 0.                           |\n",
    "| `weather`  | 1: Clear, Few clouds, partly cloudy, partly cloudy<br>2: Mist + Cloudy, Mist + Broken clouds, Mist + Few clouds, Mist<br>3: Light Snow, Light Rain + Thunderstorm + Scattered clouds, Light Rain + Scattered clouds<br>4: Heavy Rain + Ice Pallets + Thunderstorm + Mist, Snow + Fog |\n",
    "| `temp`     | temperature in Celsius                                                                |\n",
    "| `atemp`    | feeling temperature in Celsius                                                        |\n",
    "| `humidity` | humidity                                                                              |\n",
    "| `windspeed`| wind speed                                                                            |\n",
    "| `casual`   | count of casual users                                                                 |\n",
    "| `registered`| count of registered users                                                            |\n",
    "| `count`    | count of total rental bikes including both casual and registered                    |\n"
   ]
  },
  {
   "cell_type": "markdown",
   "metadata": {},
   "source": [
    "# Data Cleaning and Preprocessing"
   ]
  },
  {
   "cell_type": "markdown",
   "metadata": {},
   "source": [
    "## Basic Checks"
   ]
  },
  {
   "cell_type": "code",
   "execution_count": null,
   "metadata": {},
   "outputs": [],
   "source": [
    "df.head()"
   ]
  },
  {
   "cell_type": "code",
   "execution_count": null,
   "metadata": {},
   "outputs": [],
   "source": [
    "df.shape"
   ]
  },
  {
   "cell_type": "code",
   "execution_count": null,
   "metadata": {},
   "outputs": [],
   "source": [
    "df.isna().sum()"
   ]
  },
  {
   "cell_type": "code",
   "execution_count": null,
   "metadata": {},
   "outputs": [],
   "source": [
    "df.duplicated().sum()"
   ]
  },
  {
   "cell_type": "markdown",
   "metadata": {},
   "source": [
    "- No missing values are there.\n",
    "- No duplicates are there."
   ]
  },
  {
   "cell_type": "code",
   "execution_count": null,
   "metadata": {},
   "outputs": [],
   "source": [
    "df.nunique()"
   ]
  },
  {
   "cell_type": "markdown",
   "metadata": {},
   "source": [
    "- season, holiday, workingday and weather are the features that have 4, 2, 2 and 4 distinct values.\n",
    "- So, these columns are categorical columns (and hence these features can be converted to categorical dtype).\n",
    "- temp, atemp, humidity, windspeed, casual, registered, count are continous numerical features."
   ]
  },
  {
   "cell_type": "code",
   "execution_count": null,
   "metadata": {},
   "outputs": [],
   "source": [
    "categorical_features = ['season', 'holiday', 'workingday', 'weather']\n",
    "numerical_features = ['temp', 'atemp', 'humidity', 'windspeed', 'casual', 'registered', 'count']"
   ]
  },
  {
   "cell_type": "code",
   "execution_count": null,
   "metadata": {},
   "outputs": [],
   "source": [
    "for feature in categorical_features:\n",
    "    df[feature] = pd.Categorical(df[feature])"
   ]
  },
  {
   "cell_type": "markdown",
   "metadata": {},
   "source": [
    "## Extracting time components\n",
    "- *Converting datetime to pandas datetime format and Extracting time components*"
   ]
  },
  {
   "cell_type": "code",
   "execution_count": null,
   "metadata": {},
   "outputs": [],
   "source": [
    "df['datetime'] = pd.to_datetime(df['datetime'])"
   ]
  },
  {
   "cell_type": "code",
   "execution_count": null,
   "metadata": {},
   "outputs": [],
   "source": [
    "first_date, last_date = np.min(df['datetime']), np.max(df['datetime'])\n",
    "first_date, last_date"
   ]
  },
  {
   "cell_type": "markdown",
   "metadata": {},
   "source": [
    "- Date is available for almost 2 full years (2011, 2012)"
   ]
  },
  {
   "cell_type": "code",
   "execution_count": null,
   "metadata": {},
   "outputs": [],
   "source": [
    "df['year'] = pd.Categorical(df['datetime'].dt.year)\n",
    "df['month'] = pd.Categorical(df['datetime'].dt.month)\n",
    "df['week'] = pd.Categorical(df['datetime'].dt.isocalendar()['week'])\n",
    "df['week_day'] = pd.Categorical(df['datetime'].dt.weekday)\n",
    "df['hour'] = pd.Categorical(df['datetime'].dt.hour)"
   ]
  },
  {
   "cell_type": "code",
   "execution_count": null,
   "metadata": {},
   "outputs": [],
   "source": [
    "def categorize_hour(hour: int) -> str:\n",
    "    if 6 <= hour < 12:\n",
    "        return 'Morning'\n",
    "    elif 12 <= hour < 16:\n",
    "        return 'Afternoon'\n",
    "    elif 16 <= hour < 20:\n",
    "        return 'Evening'\n",
    "    else:\n",
    "        return 'Night'"
   ]
  },
  {
   "cell_type": "code",
   "execution_count": null,
   "metadata": {},
   "outputs": [],
   "source": [
    "df['time_of_day'] = df['hour'].apply(categorize_hour)"
   ]
  },
  {
   "cell_type": "code",
   "execution_count": null,
   "metadata": {},
   "outputs": [],
   "source": [
    "time_components = ['year', 'month', 'week', 'week_day', 'hour', 'time_of_day']"
   ]
  },
  {
   "cell_type": "markdown",
   "metadata": {},
   "source": [
    "## Miscellaneous Checks"
   ]
  },
  {
   "cell_type": "markdown",
   "metadata": {},
   "source": [
    "- Given Dataset is sanitized and useful features has been extracted.\n",
    "- So, EDA can be started."
   ]
  },
  {
   "cell_type": "markdown",
   "metadata": {},
   "source": [
    "# EDA"
   ]
  },
  {
   "cell_type": "markdown",
   "metadata": {},
   "source": [
    "## Basic Checks - shape, info() and describe() etc"
   ]
  },
  {
   "cell_type": "code",
   "execution_count": null,
   "metadata": {},
   "outputs": [],
   "source": [
    "df.shape"
   ]
  },
  {
   "cell_type": "code",
   "execution_count": null,
   "metadata": {},
   "outputs": [],
   "source": [
    "df.info()"
   ]
  },
  {
   "cell_type": "code",
   "execution_count": null,
   "metadata": {},
   "outputs": [],
   "source": [
    "df[numerical_features].describe().T"
   ]
  },
  {
   "cell_type": "code",
   "execution_count": null,
   "metadata": {},
   "outputs": [],
   "source": [
    "df[categorical_features + time_components].describe().T"
   ]
  },
  {
   "cell_type": "markdown",
   "metadata": {},
   "source": [
    "### value_counts()"
   ]
  },
  {
   "cell_type": "code",
   "execution_count": null,
   "metadata": {},
   "outputs": [],
   "source": [
    "for feature in categorical_features:\n",
    "    print(df[feature].value_counts())\n",
    "    print('--------------------------------')"
   ]
  },
  {
   "cell_type": "code",
   "execution_count": null,
   "metadata": {},
   "outputs": [],
   "source": [
    "df['year'].value_counts()"
   ]
  },
  {
   "cell_type": "code",
   "execution_count": null,
   "metadata": {},
   "outputs": [],
   "source": [
    "df['month'].value_counts()"
   ]
  },
  {
   "cell_type": "code",
   "execution_count": null,
   "metadata": {},
   "outputs": [],
   "source": [
    "df['week_day'].value_counts()"
   ]
  },
  {
   "cell_type": "code",
   "execution_count": null,
   "metadata": {},
   "outputs": [],
   "source": [
    "df['time_of_day'].value_counts()"
   ]
  },
  {
   "cell_type": "markdown",
   "metadata": {},
   "source": [
    "## Box Plots and Histograms"
   ]
  },
  {
   "cell_type": "markdown",
   "metadata": {},
   "source": [
    "### Utility functions"
   ]
  },
  {
   "cell_type": "code",
   "execution_count": null,
   "metadata": {},
   "outputs": [],
   "source": [
    "# Function to find ouliers using IQR method\n",
    "def findOutliersCount(series: pd.Series) -> int:\n",
    "    q1 = np.quantile(series, 0.25)\n",
    "    q3 = np.quantile(series, 0.75)\n",
    "\n",
    "    iqr = q3 - q1\n",
    "\n",
    "    outliers = series[~((q1 - 1.5*iqr <= series) & (series <= q3 + 1.5*iqr))]\n",
    "    return len(outliers)"
   ]
  },
  {
   "cell_type": "markdown",
   "metadata": {},
   "source": [
    "### of temp"
   ]
  },
  {
   "cell_type": "code",
   "execution_count": null,
   "metadata": {},
   "outputs": [],
   "source": [
    "feature = \"temp\"\n",
    "sns.histplot(x = feature, data = df)\n",
    "plt.title(f\"Histogram of {feature} recorded\")"
   ]
  },
  {
   "cell_type": "code",
   "execution_count": null,
   "metadata": {},
   "outputs": [],
   "source": [
    "feature = \"temp\"\n",
    "fig, axs = plt.subplots(2, 2, figsize = (16, 16))\n",
    "\n",
    "# boxplot of temp (season-wise)\n",
    "plt1 = sns.boxplot(data=df, x = \"season\", y = feature, ax = axs[0][0])\n",
    "plt1.set_title(f\"Boxplot of {feature} (season-wise)\")\n",
    "\n",
    "# boxplot of temp (holiday-wise)\n",
    "plt2 = sns.boxplot(data=df, x = \"holiday\", y = feature, ax = axs[0][1])\n",
    "plt2.set_title(f\"Boxplot of {feature} (holiday-wise)\")\n",
    "\n",
    "# boxplot of temp (workingday-wise)\n",
    "plt3 = sns.boxplot(data=df, x = \"workingday\", y = feature, ax = axs[1][0])\n",
    "plt3.set_title(f\"Boxplot of {feature} (workingday-wise)\")\n",
    "\n",
    "# boxplot of temp (weather-wise)\n",
    "plt4 = sns.boxplot(data=df, x = \"weather\", y = feature, ax = axs[1][1])\n",
    "plt4.set_title(f\"Boxplot of {feature} (weather-wise)\")\n",
    "\n",
    "\n",
    "plt.show()"
   ]
  },
  {
   "cell_type": "markdown",
   "metadata": {},
   "source": [
    "#### Number of Outliers (using IQR method)"
   ]
  },
  {
   "cell_type": "code",
   "execution_count": null,
   "metadata": {},
   "outputs": [],
   "source": [
    "for season in df['season'].unique():\n",
    "    temp = df.loc[df['season'] == season][\"temp\"]\n",
    "    numOutliers = findOutliersCount(temp)\n",
    "    print(f\"Season {season} has {numOutliers} outliers of temp feature\")"
   ]
  },
  {
   "cell_type": "code",
   "execution_count": null,
   "metadata": {},
   "outputs": [],
   "source": [
    "for holiday in df['holiday'].unique():\n",
    "    temp = df.loc[df['holiday'] == holiday][\"temp\"]\n",
    "    numOutliers = findOutliersCount(temp)\n",
    "    print(f\"holiday {holiday} has {numOutliers} outliers of temp feature\")"
   ]
  },
  {
   "cell_type": "code",
   "execution_count": null,
   "metadata": {},
   "outputs": [],
   "source": [
    "for workingday in df['workingday'].unique():\n",
    "    temp = df.loc[df['workingday'] == workingday][\"temp\"]\n",
    "    numOutliers = findOutliersCount(temp)\n",
    "    print(f\"workingday {workingday} has {numOutliers} outliers of temp feature\")"
   ]
  },
  {
   "cell_type": "code",
   "execution_count": null,
   "metadata": {},
   "outputs": [],
   "source": [
    "for weather in df['weather'].unique():\n",
    "    temp = df.loc[df['weather'] == weather][\"temp\"]\n",
    "    numOutliers = findOutliersCount(temp)\n",
    "    print(f\"weather {weather} has {numOutliers} outliers of temp feature\")"
   ]
  },
  {
   "cell_type": "markdown",
   "metadata": {},
   "source": [
    "### of atemp"
   ]
  },
  {
   "cell_type": "code",
   "execution_count": null,
   "metadata": {},
   "outputs": [],
   "source": [
    "feature = \"atemp\"\n",
    "sns.histplot(x = feature, data = df)\n",
    "plt.title(f\"Histogram of {feature} recorded\")"
   ]
  },
  {
   "cell_type": "code",
   "execution_count": null,
   "metadata": {},
   "outputs": [],
   "source": [
    "feature = \"atemp\"\n",
    "fig, axs = plt.subplots(2, 2, figsize = (16, 16))\n",
    "\n",
    "# boxplot of atemp (season-wise)\n",
    "plt1 = sns.boxplot(data=df, x = \"season\", y = feature, ax = axs[0][0])\n",
    "plt1.set_title(f\"Boxplot of {feature} (season-wise)\")\n",
    "\n",
    "# boxplot of atemp (holiday-wise)\n",
    "plt2 = sns.boxplot(data=df, x = \"holiday\", y = feature, ax = axs[0][1])\n",
    "plt2.set_title(f\"Boxplot of {feature} (holiday-wise)\")\n",
    "\n",
    "# boxplot of atemp (workingday-wise)\n",
    "plt3 = sns.boxplot(data=df, x = \"workingday\", y = feature, ax = axs[1][0])\n",
    "plt3.set_title(f\"Boxplot of {feature} (workingday-wise)\")\n",
    "\n",
    "# boxplot of atemp (weather-wise)\n",
    "plt4 = sns.boxplot(data=df, x = \"weather\", y = feature, ax = axs[1][1])\n",
    "plt4.set_title(f\"Boxplot of {feature} (weather-wise)\")\n",
    "\n",
    "\n",
    "plt.show()"
   ]
  },
  {
   "cell_type": "markdown",
   "metadata": {},
   "source": [
    "#### Number of Outliers (using IQR method)"
   ]
  },
  {
   "cell_type": "code",
   "execution_count": null,
   "metadata": {},
   "outputs": [],
   "source": [
    "for season in df['season'].unique():\n",
    "    atemp = df.loc[df['season'] == season][\"atemp\"]\n",
    "    numOutliers = findOutliersCount(atemp)\n",
    "    print(f\"Season {season} has {numOutliers} outliers of atemp feature\")"
   ]
  },
  {
   "cell_type": "code",
   "execution_count": null,
   "metadata": {},
   "outputs": [],
   "source": [
    "for holiday in df['holiday'].unique():\n",
    "    atemp = df.loc[df['holiday'] == holiday][\"atemp\"]\n",
    "    numOutliers = findOutliersCount(atemp)\n",
    "    print(f\"holiday {holiday} has {numOutliers} outliers of atemp feature\")"
   ]
  },
  {
   "cell_type": "code",
   "execution_count": null,
   "metadata": {},
   "outputs": [],
   "source": [
    "for workingday in df['workingday'].unique():\n",
    "    atemp = df.loc[df['workingday'] == workingday][\"atemp\"]\n",
    "    numOutliers = findOutliersCount(atemp)\n",
    "    print(f\"workingday {workingday} has {numOutliers} outliers of atemp feature\")"
   ]
  },
  {
   "cell_type": "code",
   "execution_count": null,
   "metadata": {},
   "outputs": [],
   "source": [
    "for weather in df['weather'].unique():\n",
    "    atemp = df.loc[df['weather'] == weather][\"atemp\"]\n",
    "    numOutliers = findOutliersCount(atemp)\n",
    "    print(f\"weather {weather} has {numOutliers} outliers of atemp feature\")"
   ]
  },
  {
   "cell_type": "markdown",
   "metadata": {},
   "source": [
    "### of windspeed"
   ]
  },
  {
   "cell_type": "code",
   "execution_count": null,
   "metadata": {},
   "outputs": [],
   "source": [
    "feature = \"windspeed\"\n",
    "sns.histplot(x = feature, data = df)\n",
    "plt.title(f\"Histogram of {feature} recorded\")"
   ]
  },
  {
   "cell_type": "code",
   "execution_count": null,
   "metadata": {},
   "outputs": [],
   "source": [
    "feature = \"windspeed\"\n",
    "fig, axs = plt.subplots(2, 2, figsize = (16, 16))\n",
    "\n",
    "# boxplot of windspeed (season-wise)\n",
    "plt1 = sns.boxplot(data=df, x = \"season\", y = feature, ax = axs[0][0])\n",
    "plt1.set_title(f\"Boxplot of {feature} (season-wise)\")\n",
    "\n",
    "# boxplot of windspeed (holiday-wise)\n",
    "plt2 = sns.boxplot(data=df, x = \"holiday\", y = feature, ax = axs[0][1])\n",
    "plt2.set_title(f\"Boxplot of {feature} (holiday-wise)\")\n",
    "\n",
    "# boxplot of windspeed (workingday-wise)\n",
    "plt3 = sns.boxplot(data=df, x = \"workingday\", y = feature, ax = axs[1][0])\n",
    "plt3.set_title(f\"Boxplot of {feature} (workingday-wise)\")\n",
    "\n",
    "# boxplot of windspeed (weather-wise)\n",
    "plt4 = sns.boxplot(data=df, x = \"weather\", y = feature, ax = axs[1][1])\n",
    "plt4.set_title(f\"Boxplot of {feature} (weather-wise)\")\n",
    "\n",
    "\n",
    "plt.show()"
   ]
  },
  {
   "cell_type": "markdown",
   "metadata": {},
   "source": [
    "#### Number of Outliers (using IQR method)"
   ]
  },
  {
   "cell_type": "code",
   "execution_count": null,
   "metadata": {},
   "outputs": [],
   "source": [
    "for season in df['season'].unique():\n",
    "    windspeed = df.loc[df['season'] == season][\"windspeed\"]\n",
    "    numOutliers = findOutliersCount(windspeed)\n",
    "    print(f\"Season {season} has {numOutliers} outliers of windspeed feature\")"
   ]
  },
  {
   "cell_type": "code",
   "execution_count": null,
   "metadata": {},
   "outputs": [],
   "source": [
    "for holiday in df['holiday'].unique():\n",
    "    windspeed = df.loc[df['holiday'] == holiday][\"windspeed\"]\n",
    "    numOutliers = findOutliersCount(windspeed)\n",
    "    print(f\"holiday {holiday} has {numOutliers} outliers of windspeed feature\")"
   ]
  },
  {
   "cell_type": "code",
   "execution_count": null,
   "metadata": {},
   "outputs": [],
   "source": [
    "for workingday in df['workingday'].unique():\n",
    "    windspeed = df.loc[df['workingday'] == workingday][\"windspeed\"]\n",
    "    numOutliers = findOutliersCount(windspeed)\n",
    "    print(f\"workingday {workingday} has {numOutliers} outliers of windspeed feature\")"
   ]
  },
  {
   "cell_type": "code",
   "execution_count": null,
   "metadata": {},
   "outputs": [],
   "source": [
    "for weather in df['weather'].unique():\n",
    "    windspeed = df.loc[df['weather'] == weather][\"windspeed\"]\n",
    "    numOutliers = findOutliersCount(windspeed)\n",
    "    print(f\"weather {weather} has {numOutliers} outliers of windspeed feature\")"
   ]
  },
  {
   "cell_type": "markdown",
   "metadata": {},
   "source": [
    "### of humidity"
   ]
  },
  {
   "cell_type": "code",
   "execution_count": null,
   "metadata": {},
   "outputs": [],
   "source": [
    "feature = \"humidity\"\n",
    "sns.histplot(x = feature, data = df)\n",
    "plt.title(f\"Histogram of {feature} recorded\")"
   ]
  },
  {
   "cell_type": "code",
   "execution_count": 80,
   "metadata": {},
   "outputs": [
    {
     "data": {
      "image/png": "[encoded data removed]",
      "text/plain": [
       "<Figure size 1152x1152 with 4 Axes>"
      ]
     },
     "metadata": {
      "needs_background": "light"
     },
     "output_type": "display_data"
    }
   ],
   "source": [
    "feature = \"humidity\"\n",
    "fig, axs = plt.subplots(2, 2, figsize = (16, 16))\n",
    "\n",
    "# boxplot of humidity (season-wise)\n",
    "plt1 = sns.boxplot(data=df, x = \"season\", y = feature, ax = axs[0][0])\n",
    "plt1.set_title(f\"Boxplot of {feature} (season-wise)\")\n",
    "\n",
    "# boxplot of humidity (holiday-wise)\n",
    "plt2 = sns.boxplot(data=df, x = \"holiday\", y = feature, ax = axs[0][1])\n",
    "plt2.set_title(f\"Boxplot of {feature} (holiday-wise)\")\n",
    "\n",
    "# boxplot of humidity (workingday-wise)\n",
    "plt3 = sns.boxplot(data=df, x = \"workingday\", y = feature, ax = axs[1][0])\n",
    "plt3.set_title(f\"Boxplot of {feature} (workingday-wise)\")\n",
    "\n",
    "# boxplot of humidity (weather-wise)\n",
    "plt4 = sns.boxplot(data=df, x = \"weather\", y = feature, ax = axs[1][1])\n",
    "plt4.set_title(f\"Boxplot of {feature} (weather-wise)\")\n",
    "\n",
    "\n",
    "plt.show()"
   ]
  },
  {
   "cell_type": "markdown",
   "metadata": {},
   "source": [
    "#### Number of Outliers (using IQR method)"
   ]
  },
  {
   "cell_type": "code",
   "execution_count": 79,
   "metadata": {},
   "outputs": [
    {
     "name": "stdout",
     "output_type": "stream",
     "text": [
      "Season 1 has 0 outliers of humidity feature\n",
      "Season 2 has 0 outliers of humidity feature\n",
      "Season 3 has 0 outliers of humidity feature\n",
      "Season 4 has 0 outliers of humidity feature\n"
     ]
    }
   ],
   "source": [
    "for season in df['season'].unique():\n",
    "    humidity = df.loc[df['season'] == season][\"humidity\"]\n",
    "    numOutliers = findOutliersCount(humidity)\n",
    "    print(f\"Season {season} has {numOutliers} outliers of humidity feature\")"
   ]
  },
  {
   "cell_type": "code",
   "execution_count": 81,
   "metadata": {},
   "outputs": [
    {
     "name": "stdout",
     "output_type": "stream",
     "text": [
      "holiday 0 has 22 outliers of humidity feature\n",
      "holiday 1 has 0 outliers of humidity feature\n"
     ]
    }
   ],
   "source": [
    "for holiday in df['holiday'].unique():\n",
    "    humidity = df.loc[df['holiday'] == holiday][\"humidity\"]\n",
    "    numOutliers = findOutliersCount(humidity)\n",
    "    print(f\"holiday {holiday} has {numOutliers} outliers of humidity feature\")"
   ]
  },
  {
   "cell_type": "code",
   "execution_count": 83,
   "metadata": {},
   "outputs": [
    {
     "name": "stdout",
     "output_type": "stream",
     "text": [
      "workingday 0 has 0 outliers of humidity feature\n",
      "workingday 1 has 22 outliers of humidity feature\n"
     ]
    }
   ],
   "source": [
    "for workingday in df['workingday'].unique():\n",
    "    humidity = df.loc[df['workingday'] == workingday][\"humidity\"]\n",
    "    numOutliers = findOutliersCount(humidity)\n",
    "    print(f\"workingday {workingday} has {numOutliers} outliers of humidity feature\")"
   ]
  },
  {
   "cell_type": "code",
   "execution_count": 84,
   "metadata": {},
   "outputs": [
    {
     "name": "stdout",
     "output_type": "stream",
     "text": [
      "weather 1 has 0 outliers of humidity feature\n",
      "weather 2 has 2 outliers of humidity feature\n",
      "weather 3 has 44 outliers of humidity feature\n",
      "weather 4 has 0 outliers of humidity feature\n"
     ]
    }
   ],
   "source": [
    "for weather in df['weather'].unique():\n",
    "    humidity = df.loc[df['weather'] == weather][\"humidity\"]\n",
    "    numOutliers = findOutliersCount(humidity)\n",
    "    print(f\"weather {weather} has {numOutliers} outliers of humidity feature\")"
   ]
  },
  {
   "cell_type": "markdown",
   "metadata": {},
   "source": [
    "### of Count"
   ]
  },
  {
   "cell_type": "code",
   "execution_count": null,
   "metadata": {},
   "outputs": [],
   "source": [
    "feature = \"count\"\n",
    "sns.histplot(x = feature, data = df)\n",
    "plt.title(f\"Histogram of {feature} recorded\")"
   ]
  },
  {
   "cell_type": "code",
   "execution_count": 86,
   "metadata": {},
   "outputs": [
    {
     "data": {
      "image/png": "[encoded data removed]",
      "text/plain": [
       "<Figure size 1152x1152 with 4 Axes>"
      ]
     },
     "metadata": {
      "needs_background": "light"
     },
     "output_type": "display_data"
    }
   ],
   "source": [
    "feature = \"count\"\n",
    "fig, axs = plt.subplots(2, 2, figsize = (16, 16))\n",
    "\n",
    "# boxplot of count (season-wise)\n",
    "plt1 = sns.boxplot(data=df, x = \"season\", y = feature, ax = axs[0][0])\n",
    "plt1.set_title(f\"Boxplot of {feature} (season-wise)\")\n",
    "\n",
    "# boxplot of count (holiday-wise)\n",
    "plt2 = sns.boxplot(data=df, x = \"holiday\", y = feature, ax = axs[0][1])\n",
    "plt2.set_title(f\"Boxplot of {feature} (holiday-wise)\")\n",
    "\n",
    "# boxplot of count (workingday-wise)\n",
    "plt3 = sns.boxplot(data=df, x = \"workingday\", y = feature, ax = axs[1][0])\n",
    "plt3.set_title(f\"Boxplot of {feature} (workingday-wise)\")\n",
    "\n",
    "# boxplot of count (weather-wise)\n",
    "plt4 = sns.boxplot(data=df, x = \"weather\", y = feature, ax = axs[1][1])\n",
    "plt4.set_title(f\"Boxplot of {feature} (weather-wise)\")\n",
    "\n",
    "\n",
    "plt.show()"
   ]
  },
  {
   "cell_type": "markdown",
   "metadata": {},
   "source": [
    "#### Number of Outliers (using IQR method)"
   ]
  },
  {
   "cell_type": "code",
   "execution_count": 85,
   "metadata": {},
   "outputs": [
    {
     "name": "stdout",
     "output_type": "stream",
     "text": [
      "Season 1 has 139 outliers of count feature\n",
      "Season 2 has 42 outliers of count feature\n",
      "Season 3 has 61 outliers of count feature\n",
      "Season 4 has 64 outliers of count feature\n"
     ]
    }
   ],
   "source": [
    "for season in df['season'].unique():\n",
    "    count = df.loc[df['season'] == season][\"count\"]\n",
    "    numOutliers = findOutliersCount(count)\n",
    "    print(f\"Season {season} has {numOutliers} outliers of count feature\")"
   ]
  },
  {
   "cell_type": "code",
   "execution_count": 87,
   "metadata": {},
   "outputs": [
    {
     "name": "stdout",
     "output_type": "stream",
     "text": [
      "holiday 0 has 311 outliers of count feature\n",
      "holiday 1 has 0 outliers of count feature\n"
     ]
    }
   ],
   "source": [
    "for holiday in df['holiday'].unique():\n",
    "    count = df.loc[df['holiday'] == holiday][\"count\"]\n",
    "    numOutliers = findOutliersCount(count)\n",
    "    print(f\"holiday {holiday} has {numOutliers} outliers of count feature\")"
   ]
  },
  {
   "cell_type": "code",
   "execution_count": 88,
   "metadata": {},
   "outputs": [
    {
     "name": "stdout",
     "output_type": "stream",
     "text": [
      "workingday 0 has 16 outliers of count feature\n",
      "workingday 1 has 278 outliers of count feature\n"
     ]
    }
   ],
   "source": [
    "for workingday in df['workingday'].unique():\n",
    "    count = df.loc[df['workingday'] == workingday][\"count\"]\n",
    "    numOutliers = findOutliersCount(count)\n",
    "    print(f\"workingday {workingday} has {numOutliers} outliers of count feature\")"
   ]
  },
  {
   "cell_type": "code",
   "execution_count": 90,
   "metadata": {},
   "outputs": [
    {
     "name": "stdout",
     "output_type": "stream",
     "text": [
      "weather 1 has 160 outliers of count feature\n",
      "weather 2 has 82 outliers of count feature\n",
      "weather 3 has 56 outliers of count feature\n",
      "weather 4 has 0 outliers of count feature\n"
     ]
    }
   ],
   "source": [
    "for weather in df['weather'].unique():\n",
    "    count = df.loc[df['weather'] == weather][\"count\"]\n",
    "    numOutliers = findOutliersCount(count)\n",
    "    print(f\"weather {weather} has {numOutliers} outliers of count feature\")"
   ]
  },
  {
   "cell_type": "markdown",
   "metadata": {},
   "source": [
    "## Group By Analysis"
   ]
  },
  {
   "cell_type": "code",
   "execution_count": null,
   "metadata": {},
   "outputs": [],
   "source": [
    "agg_dict = {\n",
    "    'temp': 'mean',\n",
    "    'atemp': 'mean',\n",
    "    'humidity': 'mean',\n",
    "    'windspeed': 'mean',\n",
    "\n",
    "    'casual': 'sum',\n",
    "    'registered': 'sum',\n",
    "    'count': 'sum'\n",
    "}"
   ]
  },
  {
   "cell_type": "markdown",
   "metadata": {},
   "source": [
    "### Group by season"
   ]
  },
  {
   "cell_type": "code",
   "execution_count": null,
   "metadata": {},
   "outputs": [],
   "source": [
    "grouping_feature = \"season\"\n",
    "\n",
    "temp_df = df.groupby(grouping_feature).agg(agg_dict).reset_index()\n",
    "temp_df"
   ]
  },
  {
   "cell_type": "code",
   "execution_count": null,
   "metadata": {},
   "outputs": [],
   "source": [
    "sns.barplot(data = temp_df, x = grouping_feature, y = \"temp\")\n",
    "plt.title(f\"Average temperature vs {grouping_feature}\")\n",
    "plt.show()"
   ]
  },
  {
   "cell_type": "code",
   "execution_count": null,
   "metadata": {},
   "outputs": [],
   "source": [
    "sns.barplot(data = temp_df, x = grouping_feature, y = \"atemp\")\n",
    "plt.title(f\"Average feeling temperature vs {grouping_feature}\")\n",
    "plt.show()"
   ]
  },
  {
   "cell_type": "code",
   "execution_count": null,
   "metadata": {},
   "outputs": [],
   "source": [
    "sns.barplot(data = temp_df, x = grouping_feature, y = \"humidity\")\n",
    "plt.title(f\"Average humidity vs {grouping_feature}\")\n",
    "plt.show()"
   ]
  },
  {
   "cell_type": "code",
   "execution_count": null,
   "metadata": {},
   "outputs": [],
   "source": [
    "sns.barplot(data = temp_df, x = grouping_feature, y = \"windspeed\")\n",
    "plt.title(f\"Average windspeed vs {grouping_feature}\")\n",
    "plt.show()"
   ]
  },
  {
   "cell_type": "code",
   "execution_count": null,
   "metadata": {},
   "outputs": [],
   "source": [
    "sns.barplot(data = temp_df, x = grouping_feature, y = \"casual\")\n",
    "plt.title(f\"Number of casual users vs {grouping_feature}\")\n",
    "plt.show()"
   ]
  },
  {
   "cell_type": "code",
   "execution_count": null,
   "metadata": {},
   "outputs": [],
   "source": [
    "sns.barplot(data = temp_df, x = grouping_feature, y = \"registered\")\n",
    "plt.title(f\"Number of registered users vs {grouping_feature}\")\n",
    "plt.show()"
   ]
  },
  {
   "cell_type": "code",
   "execution_count": null,
   "metadata": {},
   "outputs": [],
   "source": [
    "sns.barplot(data = temp_df, x = grouping_feature, y = \"count\")\n",
    "plt.title(f\"Number of total users vs {grouping_feature}\")\n",
    "plt.show()"
   ]
  },
  {
   "cell_type": "markdown",
   "metadata": {},
   "source": [
    "### Group by holiday"
   ]
  },
  {
   "cell_type": "code",
   "execution_count": null,
   "metadata": {},
   "outputs": [],
   "source": [
    "grouping_feature = \"holiday\"\n",
    "\n",
    "temp_df = df.groupby(grouping_feature).agg(agg_dict).reset_index()\n",
    "temp_df"
   ]
  },
  {
   "cell_type": "code",
   "execution_count": null,
   "metadata": {},
   "outputs": [],
   "source": [
    "sns.barplot(data = temp_df, x = grouping_feature, y = \"temp\")\n",
    "plt.title(f\"Average temperature vs {grouping_feature}\")\n",
    "plt.show()"
   ]
  },
  {
   "cell_type": "code",
   "execution_count": null,
   "metadata": {},
   "outputs": [],
   "source": [
    "sns.barplot(data = temp_df, x = grouping_feature, y = \"atemp\")\n",
    "plt.title(f\"Average feeling temperature vs {grouping_feature}\")\n",
    "plt.show()"
   ]
  },
  {
   "cell_type": "code",
   "execution_count": null,
   "metadata": {},
   "outputs": [],
   "source": [
    "sns.barplot(data = temp_df, x = grouping_feature, y = \"humidity\")\n",
    "plt.title(f\"Average humidity vs {grouping_feature}\")\n",
    "plt.show()"
   ]
  },
  {
   "cell_type": "code",
   "execution_count": null,
   "metadata": {},
   "outputs": [],
   "source": [
    "sns.barplot(data = temp_df, x = grouping_feature, y = \"windspeed\")\n",
    "plt.title(f\"Average windspeed vs {grouping_feature}\")\n",
    "plt.show()"
   ]
  },
  {
   "cell_type": "code",
   "execution_count": null,
   "metadata": {},
   "outputs": [],
   "source": [
    "sns.barplot(data = temp_df, x = grouping_feature, y = \"casual\")\n",
    "plt.title(f\"Number of casual users vs {grouping_feature}\")\n",
    "plt.show()"
   ]
  },
  {
   "cell_type": "code",
   "execution_count": null,
   "metadata": {},
   "outputs": [],
   "source": [
    "sns.barplot(data = temp_df, x = grouping_feature, y = \"registered\")\n",
    "plt.title(f\"Number of registered users vs {grouping_feature}\")\n",
    "plt.show()"
   ]
  },
  {
   "cell_type": "code",
   "execution_count": null,
   "metadata": {},
   "outputs": [],
   "source": [
    "sns.barplot(data = temp_df, x = grouping_feature, y = \"count\")\n",
    "plt.title(f\"Number of total users vs {grouping_feature}\")\n",
    "plt.show()"
   ]
  },
  {
   "cell_type": "markdown",
   "metadata": {},
   "source": [
    "### Group by workingday"
   ]
  },
  {
   "cell_type": "code",
   "execution_count": null,
   "metadata": {},
   "outputs": [],
   "source": [
    "grouping_feature = \"workingday\"\n",
    "\n",
    "temp_df = df.groupby(grouping_feature).agg(agg_dict).reset_index()\n",
    "temp_df"
   ]
  },
  {
   "cell_type": "code",
   "execution_count": null,
   "metadata": {},
   "outputs": [],
   "source": [
    "sns.barplot(data = temp_df, x = grouping_feature, y = \"temp\")\n",
    "plt.title(f\"Average temperature vs {grouping_feature}\")\n",
    "plt.show()"
   ]
  },
  {
   "cell_type": "code",
   "execution_count": null,
   "metadata": {},
   "outputs": [],
   "source": [
    "sns.barplot(data = temp_df, x = grouping_feature, y = \"atemp\")\n",
    "plt.title(f\"Average feeling temperature vs {grouping_feature}\")\n",
    "plt.show()"
   ]
  },
  {
   "cell_type": "code",
   "execution_count": null,
   "metadata": {},
   "outputs": [],
   "source": [
    "sns.barplot(data = temp_df, x = grouping_feature, y = \"humidity\")\n",
    "plt.title(f\"Average humidity vs {grouping_feature}\")\n",
    "plt.show()"
   ]
  },
  {
   "cell_type": "code",
   "execution_count": null,
   "metadata": {},
   "outputs": [],
   "source": [
    "sns.barplot(data = temp_df, x = grouping_feature, y = \"windspeed\")\n",
    "plt.title(f\"Average windspeed vs {grouping_feature}\")\n",
    "plt.show()"
   ]
  },
  {
   "cell_type": "code",
   "execution_count": null,
   "metadata": {},
   "outputs": [],
   "source": [
    "sns.barplot(data = temp_df, x = grouping_feature, y = \"casual\")\n",
    "plt.title(f\"Number of casual users vs {grouping_feature}\")\n",
    "plt.show()"
   ]
  },
  {
   "cell_type": "code",
   "execution_count": null,
   "metadata": {},
   "outputs": [],
   "source": [
    "sns.barplot(data = temp_df, x = grouping_feature, y = \"registered\")\n",
    "plt.title(f\"Number of registered users vs {grouping_feature}\")\n",
    "plt.show()"
   ]
  },
  {
   "cell_type": "code",
   "execution_count": null,
   "metadata": {},
   "outputs": [],
   "source": [
    "sns.barplot(data = temp_df, x = grouping_feature, y = \"count\")\n",
    "plt.title(f\"Number of total users vs {grouping_feature}\")\n",
    "plt.show()"
   ]
  },
  {
   "cell_type": "markdown",
   "metadata": {},
   "source": [
    "### Group by weather"
   ]
  },
  {
   "cell_type": "code",
   "execution_count": null,
   "metadata": {},
   "outputs": [],
   "source": [
    "grouping_feature = \"weather\"\n",
    "\n",
    "temp_df = df.groupby(grouping_feature).agg(agg_dict).reset_index()\n",
    "temp_df"
   ]
  },
  {
   "cell_type": "code",
   "execution_count": null,
   "metadata": {},
   "outputs": [],
   "source": [
    "sns.barplot(data = temp_df, x = grouping_feature, y = \"temp\")\n",
    "plt.title(f\"Average temperature vs {grouping_feature}\")\n",
    "plt.show()"
   ]
  },
  {
   "cell_type": "code",
   "execution_count": null,
   "metadata": {},
   "outputs": [],
   "source": [
    "sns.barplot(data = temp_df, x = grouping_feature, y = \"atemp\")\n",
    "plt.title(f\"Average feeling temperature vs {grouping_feature}\")\n",
    "plt.show()"
   ]
  },
  {
   "cell_type": "code",
   "execution_count": null,
   "metadata": {},
   "outputs": [],
   "source": [
    "sns.barplot(data = temp_df, x = grouping_feature, y = \"humidity\")\n",
    "plt.title(f\"Average humidity vs {grouping_feature}\")\n",
    "plt.show()"
   ]
  },
  {
   "cell_type": "code",
   "execution_count": null,
   "metadata": {},
   "outputs": [],
   "source": [
    "sns.barplot(data = temp_df, x = grouping_feature, y = \"windspeed\")\n",
    "plt.title(f\"Average windspeed vs {grouping_feature}\")\n",
    "plt.show()"
   ]
  },
  {
   "cell_type": "code",
   "execution_count": null,
   "metadata": {},
   "outputs": [],
   "source": [
    "sns.barplot(data = temp_df, x = grouping_feature, y = \"casual\")\n",
    "plt.title(f\"Number of casual users vs {grouping_feature}\")\n",
    "plt.show()"
   ]
  },
  {
   "cell_type": "code",
   "execution_count": null,
   "metadata": {},
   "outputs": [],
   "source": [
    "sns.barplot(data = temp_df, x = grouping_feature, y = \"registered\")\n",
    "plt.title(f\"Number of registered users vs {grouping_feature}\")\n",
    "plt.show()"
   ]
  },
  {
   "cell_type": "code",
   "execution_count": null,
   "metadata": {},
   "outputs": [],
   "source": [
    "sns.barplot(data = temp_df, x = grouping_feature, y = \"count\")\n",
    "plt.title(f\"Number of total users vs {grouping_feature}\")\n",
    "plt.show()"
   ]
  },
  {
   "cell_type": "markdown",
   "metadata": {},
   "source": [
    "### Group by year"
   ]
  },
  {
   "cell_type": "code",
   "execution_count": null,
   "metadata": {},
   "outputs": [],
   "source": [
    "grouping_feature = \"year\"\n",
    "\n",
    "temp_df = df.groupby(grouping_feature).agg(agg_dict).reset_index()\n",
    "temp_df"
   ]
  },
  {
   "cell_type": "code",
   "execution_count": null,
   "metadata": {},
   "outputs": [],
   "source": [
    "sns.barplot(data = temp_df, x = grouping_feature, y = \"temp\")\n",
    "plt.title(f\"Average temperature vs {grouping_feature}\")\n",
    "plt.show()"
   ]
  },
  {
   "cell_type": "code",
   "execution_count": null,
   "metadata": {},
   "outputs": [],
   "source": [
    "sns.barplot(data = temp_df, x = grouping_feature, y = \"atemp\")\n",
    "plt.title(f\"Average feeling temperature vs {grouping_feature}\")\n",
    "plt.show()"
   ]
  },
  {
   "cell_type": "code",
   "execution_count": null,
   "metadata": {},
   "outputs": [],
   "source": [
    "sns.barplot(data = temp_df, x = grouping_feature, y = \"humidity\")\n",
    "plt.title(f\"Average humidity vs {grouping_feature}\")\n",
    "plt.show()"
   ]
  },
  {
   "cell_type": "code",
   "execution_count": null,
   "metadata": {},
   "outputs": [],
   "source": [
    "sns.barplot(data = temp_df, x = grouping_feature, y = \"windspeed\")\n",
    "plt.title(f\"Average windspeed vs {grouping_feature}\")\n",
    "plt.show()"
   ]
  },
  {
   "cell_type": "code",
   "execution_count": null,
   "metadata": {},
   "outputs": [],
   "source": [
    "sns.barplot(data = temp_df, x = grouping_feature, y = \"casual\")\n",
    "plt.title(f\"Number of casual users vs {grouping_feature}\")\n",
    "plt.show()"
   ]
  },
  {
   "cell_type": "code",
   "execution_count": null,
   "metadata": {},
   "outputs": [],
   "source": [
    "sns.barplot(data = temp_df, x = grouping_feature, y = \"registered\")\n",
    "plt.title(f\"Number of registered users vs {grouping_feature}\")\n",
    "plt.show()"
   ]
  },
  {
   "cell_type": "code",
   "execution_count": null,
   "metadata": {},
   "outputs": [],
   "source": [
    "sns.barplot(data = temp_df, x = grouping_feature, y = \"count\")\n",
    "plt.title(f\"Number of total users vs {grouping_feature}\")\n",
    "plt.show()"
   ]
  },
  {
   "cell_type": "markdown",
   "metadata": {},
   "source": [
    "### Group by month"
   ]
  },
  {
   "cell_type": "code",
   "execution_count": null,
   "metadata": {},
   "outputs": [],
   "source": [
    "grouping_feature = \"month\"\n",
    "\n",
    "temp_df = df.groupby(grouping_feature).agg(agg_dict).reset_index()\n",
    "temp_df"
   ]
  },
  {
   "cell_type": "code",
   "execution_count": null,
   "metadata": {},
   "outputs": [],
   "source": [
    "sns.barplot(data = temp_df, x = grouping_feature, y = \"temp\")\n",
    "plt.title(f\"Average temperature vs {grouping_feature}\")\n",
    "plt.show()"
   ]
  },
  {
   "cell_type": "code",
   "execution_count": null,
   "metadata": {},
   "outputs": [],
   "source": [
    "sns.barplot(data = temp_df, x = grouping_feature, y = \"atemp\")\n",
    "plt.title(f\"Average feeling temperature vs {grouping_feature}\")\n",
    "plt.show()"
   ]
  },
  {
   "cell_type": "code",
   "execution_count": null,
   "metadata": {},
   "outputs": [],
   "source": [
    "sns.barplot(data = temp_df, x = grouping_feature, y = \"humidity\")\n",
    "plt.title(f\"Average humidity vs {grouping_feature}\")\n",
    "plt.show()"
   ]
  },
  {
   "cell_type": "code",
   "execution_count": null,
   "metadata": {},
   "outputs": [],
   "source": [
    "sns.barplot(data = temp_df, x = grouping_feature, y = \"windspeed\")\n",
    "plt.title(f\"Average windspeed vs {grouping_feature}\")\n",
    "plt.show()"
   ]
  },
  {
   "cell_type": "code",
   "execution_count": null,
   "metadata": {},
   "outputs": [],
   "source": [
    "sns.barplot(data = temp_df, x = grouping_feature, y = \"casual\")\n",
    "plt.title(f\"Number of casual users vs {grouping_feature}\")\n",
    "plt.show()"
   ]
  },
  {
   "cell_type": "code",
   "execution_count": null,
   "metadata": {},
   "outputs": [],
   "source": [
    "sns.barplot(data = temp_df, x = grouping_feature, y = \"registered\")\n",
    "plt.title(f\"Number of registered users vs {grouping_feature}\")\n",
    "plt.show()"
   ]
  },
  {
   "cell_type": "code",
   "execution_count": null,
   "metadata": {},
   "outputs": [],
   "source": [
    "sns.barplot(data = temp_df, x = grouping_feature, y = \"count\")\n",
    "plt.title(f\"Number of total users vs {grouping_feature}\")\n",
    "plt.show()"
   ]
  },
  {
   "cell_type": "markdown",
   "metadata": {},
   "source": [
    "### Group by week_day"
   ]
  },
  {
   "cell_type": "code",
   "execution_count": null,
   "metadata": {},
   "outputs": [],
   "source": [
    "grouping_feature = \"week_day\"\n",
    "\n",
    "temp_df = df.groupby(grouping_feature).agg(agg_dict).reset_index()\n",
    "temp_df"
   ]
  },
  {
   "cell_type": "code",
   "execution_count": null,
   "metadata": {},
   "outputs": [],
   "source": [
    "sns.barplot(data = temp_df, x = grouping_feature, y = \"temp\")\n",
    "plt.title(f\"Average temperature vs {grouping_feature}\")\n",
    "plt.show()"
   ]
  },
  {
   "cell_type": "code",
   "execution_count": null,
   "metadata": {},
   "outputs": [],
   "source": [
    "sns.barplot(data = temp_df, x = grouping_feature, y = \"atemp\")\n",
    "plt.title(f\"Average feeling temperature vs {grouping_feature}\")\n",
    "plt.show()"
   ]
  },
  {
   "cell_type": "code",
   "execution_count": null,
   "metadata": {},
   "outputs": [],
   "source": [
    "sns.barplot(data = temp_df, x = grouping_feature, y = \"humidity\")\n",
    "plt.title(f\"Average humidity vs {grouping_feature}\")\n",
    "plt.show()"
   ]
  },
  {
   "cell_type": "code",
   "execution_count": null,
   "metadata": {},
   "outputs": [],
   "source": [
    "sns.barplot(data = temp_df, x = grouping_feature, y = \"windspeed\")\n",
    "plt.title(f\"Average windspeed vs {grouping_feature}\")\n",
    "plt.show()"
   ]
  },
  {
   "cell_type": "code",
   "execution_count": null,
   "metadata": {},
   "outputs": [],
   "source": [
    "sns.barplot(data = temp_df, x = grouping_feature, y = \"casual\")\n",
    "plt.title(f\"Number of casual users vs {grouping_feature}\")\n",
    "plt.show()"
   ]
  },
  {
   "cell_type": "code",
   "execution_count": null,
   "metadata": {},
   "outputs": [],
   "source": [
    "sns.barplot(data = temp_df, x = grouping_feature, y = \"registered\")\n",
    "plt.title(f\"Number of registered users vs {grouping_feature}\")\n",
    "plt.show()"
   ]
  },
  {
   "cell_type": "code",
   "execution_count": null,
   "metadata": {},
   "outputs": [],
   "source": [
    "sns.barplot(data = temp_df, x = grouping_feature, y = \"count\")\n",
    "plt.title(f\"Number of total users vs {grouping_feature}\")\n",
    "plt.show()"
   ]
  },
  {
   "cell_type": "markdown",
   "metadata": {},
   "source": [
    "### Group by time_of_day"
   ]
  },
  {
   "cell_type": "code",
   "execution_count": null,
   "metadata": {},
   "outputs": [],
   "source": [
    "grouping_feature = \"time_of_day\"\n",
    "\n",
    "temp_df = df.groupby(grouping_feature).agg(agg_dict).reset_index()\n",
    "temp_df"
   ]
  },
  {
   "cell_type": "code",
   "execution_count": null,
   "metadata": {},
   "outputs": [],
   "source": [
    "sns.barplot(data = temp_df, x = grouping_feature, y = \"temp\")\n",
    "plt.title(f\"Average temperature vs {grouping_feature}\")\n",
    "plt.show()"
   ]
  },
  {
   "cell_type": "code",
   "execution_count": null,
   "metadata": {},
   "outputs": [],
   "source": [
    "sns.barplot(data = temp_df, x = grouping_feature, y = \"atemp\")\n",
    "plt.title(f\"Average feeling temperature vs {grouping_feature}\")\n",
    "plt.show()"
   ]
  },
  {
   "cell_type": "code",
   "execution_count": null,
   "metadata": {},
   "outputs": [],
   "source": [
    "sns.barplot(data = temp_df, x = grouping_feature, y = \"humidity\")\n",
    "plt.title(f\"Average humidity vs {grouping_feature}\")\n",
    "plt.show()"
   ]
  },
  {
   "cell_type": "code",
   "execution_count": null,
   "metadata": {},
   "outputs": [],
   "source": [
    "sns.barplot(data = temp_df, x = grouping_feature, y = \"windspeed\")\n",
    "plt.title(f\"Average windspeed vs {grouping_feature}\")\n",
    "plt.show()"
   ]
  },
  {
   "cell_type": "code",
   "execution_count": null,
   "metadata": {},
   "outputs": [],
   "source": [
    "sns.barplot(data = temp_df, x = grouping_feature, y = \"casual\")\n",
    "plt.title(f\"Number of casual users vs {grouping_feature}\")\n",
    "plt.show()"
   ]
  },
  {
   "cell_type": "code",
   "execution_count": null,
   "metadata": {},
   "outputs": [],
   "source": [
    "sns.barplot(data = temp_df, x = grouping_feature, y = \"registered\")\n",
    "plt.title(f\"Number of registered users vs {grouping_feature}\")\n",
    "plt.show()"
   ]
  },
  {
   "cell_type": "code",
   "execution_count": null,
   "metadata": {},
   "outputs": [],
   "source": [
    "sns.barplot(data = temp_df, x = grouping_feature, y = \"count\")\n",
    "plt.title(f\"Number of total users vs {grouping_feature}\")\n",
    "plt.show()"
   ]
  },
  {
   "cell_type": "markdown",
   "metadata": {},
   "source": [
    "## Co-relation checks"
   ]
  },
  {
   "cell_type": "code",
   "execution_count": null,
   "metadata": {},
   "outputs": [],
   "source": [
    "df.info()"
   ]
  },
  {
   "cell_type": "code",
   "execution_count": null,
   "metadata": {},
   "outputs": [],
   "source": [
    "sns.pairplot(df[numerical_features])"
   ]
  },
  {
   "cell_type": "markdown",
   "metadata": {},
   "source": [
    "## Hypothesis/Statistical Testing"
   ]
  },
  {
   "cell_type": "code",
   "execution_count": null,
   "metadata": {},
   "outputs": [],
   "source": []
  }
 ],
 "metadata": {
  "kernelspec": {
   "display_name": "base",
   "language": "python",
   "name": "python3"
  },
  "language_info": {
   "codemirror_mode": {
    "name": "ipython",
    "version": 3
   },
   "file_extension": ".py",
   "mimetype": "text/x-python",
   "name": "python",
   "nbconvert_exporter": "python",
   "pygments_lexer": "ipython3",
   "version": "3.8.8"
  }
 },
 "nbformat": 4,
 "nbformat_minor": 2
}
