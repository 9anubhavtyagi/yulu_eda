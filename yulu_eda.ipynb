{
 "cells": [
  {
   "cell_type": "markdown",
   "metadata": {},
   "source": [
    "# Problem - Statement"
   ]
  },
  {
   "cell_type": "markdown",
   "metadata": {},
   "source": [
    "## About Yulu\n",
    "\n",
    "Yulu is India’s leading micro-mobility service provider, which offers unique vehicles for the daily commute. Starting off as a mission to eliminate traffic congestion in India, Yulu provides the safest commute solution through a user-friendly mobile app to enable shared, solo and sustainable commuting.\n",
    "\n",
    "Yulu zones are located at all the appropriate locations (including metro stations, bus stands, office spaces, residential areas, corporate offices, etc) to make those first and last miles smooth, affordable, and convenient!\n",
    "\n",
    "Yulu has recently suffered considerable dips in its revenues. They have contracted a consulting company to understand the factors on which the demand for these shared electric cycles depends. Specifically, they want to understand the factors affecting the demand for these shared electric cycles in the Indian market.\n",
    "\n",
    "## How you can help here?\n",
    "\n",
    "The company wants to know:\n",
    "\n",
    "1. Which variables are significant in predicting the demand for shared electric cycles in the Indian market?\n",
    "2. How well those variables describe the electric cycle demands?"
   ]
  },
  {
   "cell_type": "markdown",
   "metadata": {},
   "source": [
    "# Module Imports and Dataset"
   ]
  },
  {
   "cell_type": "markdown",
   "metadata": {},
   "source": [
    "## Modules"
   ]
  },
  {
   "cell_type": "code",
   "execution_count": 1,
   "metadata": {},
   "outputs": [],
   "source": [
    "import numpy as np\n",
    "import pandas as pd\n",
    "import seaborn as sns\n",
    "from matplotlib import pyplot as plt\n",
    "\n",
    "from scipy import stats"
   ]
  },
  {
   "cell_type": "markdown",
   "metadata": {},
   "source": [
    "## Datasets"
   ]
  },
  {
   "cell_type": "code",
   "execution_count": 2,
   "metadata": {},
   "outputs": [
    {
     "name": "stdout",
     "output_type": "stream",
     "text": [
      "<class 'pandas.core.frame.DataFrame'>\n",
      "RangeIndex: 10886 entries, 0 to 10885\n",
      "Data columns (total 12 columns):\n",
      " #   Column      Non-Null Count  Dtype  \n",
      "---  ------      --------------  -----  \n",
      " 0   datetime    10886 non-null  object \n",
      " 1   season      10886 non-null  int64  \n",
      " 2   holiday     10886 non-null  int64  \n",
      " 3   workingday  10886 non-null  int64  \n",
      " 4   weather     10886 non-null  int64  \n",
      " 5   temp        10886 non-null  float64\n",
      " 6   atemp       10886 non-null  float64\n",
      " 7   humidity    10886 non-null  int64  \n",
      " 8   windspeed   10886 non-null  float64\n",
      " 9   casual      10886 non-null  int64  \n",
      " 10  registered  10886 non-null  int64  \n",
      " 11  count       10886 non-null  int64  \n",
      "dtypes: float64(3), int64(8), object(1)\n",
      "memory usage: 1020.7+ KB\n"
     ]
    }
   ],
   "source": [
    "df = pd.read_csv('yulu.csv')\n",
    "df.info()"
   ]
  },
  {
   "cell_type": "markdown",
   "metadata": {},
   "source": [
    "**`Columns Description`**\n",
    "\n",
    "| Column     | Description                                                                           |\n",
    "|------------|---------------------------------------------------------------------------------------|\n",
    "| `datetime` | datetime                                                                              |\n",
    "| **`season`**   | **season (1: spring, 2: summer, 3: fall, 4: winter)**                                 |\n",
    "| `holiday`  | whether day is a holiday or not (extracted from [holiday schedule](http://dchr.dc.gov/page/holiday-schedule)) |\n",
    "| `workingday`| if day is neither weekend nor holiday is 1, otherwise is 0.                           |\n",
    "| `weather`  | 1: Clear, Few clouds, partly cloudy, partly cloudy<br>2: Mist + Cloudy, Mist + Broken clouds, Mist + Few clouds, Mist<br>3: Light Snow, Light Rain + Thunderstorm + Scattered clouds, Light Rain + Scattered clouds<br>4: Heavy Rain + Ice Pallets + Thunderstorm + Mist, Snow + Fog |\n",
    "| `temp`     | temperature in Celsius                                                                |\n",
    "| `atemp`    | feeling temperature in Celsius                                                        |\n",
    "| `humidity` | humidity                                                                              |\n",
    "| `windspeed`| wind speed                                                                            |\n",
    "| `casual`   | count of casual users                                                                 |\n",
    "| `registered`| count of registered users                                                            |\n",
    "| `count`    | count of total rental bikes including both casual and registered                    |\n"
   ]
  },
  {
   "cell_type": "markdown",
   "metadata": {},
   "source": [
    "# Data Cleaning and Preprocessing"
   ]
  },
  {
   "cell_type": "markdown",
   "metadata": {},
   "source": [
    "## Basic Checks"
   ]
  },
  {
   "cell_type": "code",
   "execution_count": 3,
   "metadata": {},
   "outputs": [
    {
     "data": {
      "text/html": [
       "<div>\n",
       "<style scoped>\n",
       "    .dataframe tbody tr th:only-of-type {\n",
       "        vertical-align: middle;\n",
       "    }\n",
       "\n",
       "    .dataframe tbody tr th {\n",
       "        vertical-align: top;\n",
       "    }\n",
       "\n",
       "    .dataframe thead th {\n",
       "        text-align: right;\n",
       "    }\n",
       "</style>\n",
       "<table border=\"1\" class=\"dataframe\">\n",
       "  <thead>\n",
       "    <tr style=\"text-align: right;\">\n",
       "      <th></th>\n",
       "      <th>datetime</th>\n",
       "      <th>season</th>\n",
       "      <th>holiday</th>\n",
       "      <th>workingday</th>\n",
       "      <th>weather</th>\n",
       "      <th>temp</th>\n",
       "      <th>atemp</th>\n",
       "      <th>humidity</th>\n",
       "      <th>windspeed</th>\n",
       "      <th>casual</th>\n",
       "      <th>registered</th>\n",
       "      <th>count</th>\n",
       "    </tr>\n",
       "  </thead>\n",
       "  <tbody>\n",
       "    <tr>\n",
       "      <th>0</th>\n",
       "      <td>2011-01-01 00:00:00</td>\n",
       "      <td>1</td>\n",
       "      <td>0</td>\n",
       "      <td>0</td>\n",
       "      <td>1</td>\n",
       "      <td>9.84</td>\n",
       "      <td>14.395</td>\n",
       "      <td>81</td>\n",
       "      <td>0.0</td>\n",
       "      <td>3</td>\n",
       "      <td>13</td>\n",
       "      <td>16</td>\n",
       "    </tr>\n",
       "    <tr>\n",
       "      <th>1</th>\n",
       "      <td>2011-01-01 01:00:00</td>\n",
       "      <td>1</td>\n",
       "      <td>0</td>\n",
       "      <td>0</td>\n",
       "      <td>1</td>\n",
       "      <td>9.02</td>\n",
       "      <td>13.635</td>\n",
       "      <td>80</td>\n",
       "      <td>0.0</td>\n",
       "      <td>8</td>\n",
       "      <td>32</td>\n",
       "      <td>40</td>\n",
       "    </tr>\n",
       "    <tr>\n",
       "      <th>2</th>\n",
       "      <td>2011-01-01 02:00:00</td>\n",
       "      <td>1</td>\n",
       "      <td>0</td>\n",
       "      <td>0</td>\n",
       "      <td>1</td>\n",
       "      <td>9.02</td>\n",
       "      <td>13.635</td>\n",
       "      <td>80</td>\n",
       "      <td>0.0</td>\n",
       "      <td>5</td>\n",
       "      <td>27</td>\n",
       "      <td>32</td>\n",
       "    </tr>\n",
       "    <tr>\n",
       "      <th>3</th>\n",
       "      <td>2011-01-01 03:00:00</td>\n",
       "      <td>1</td>\n",
       "      <td>0</td>\n",
       "      <td>0</td>\n",
       "      <td>1</td>\n",
       "      <td>9.84</td>\n",
       "      <td>14.395</td>\n",
       "      <td>75</td>\n",
       "      <td>0.0</td>\n",
       "      <td>3</td>\n",
       "      <td>10</td>\n",
       "      <td>13</td>\n",
       "    </tr>\n",
       "    <tr>\n",
       "      <th>4</th>\n",
       "      <td>2011-01-01 04:00:00</td>\n",
       "      <td>1</td>\n",
       "      <td>0</td>\n",
       "      <td>0</td>\n",
       "      <td>1</td>\n",
       "      <td>9.84</td>\n",
       "      <td>14.395</td>\n",
       "      <td>75</td>\n",
       "      <td>0.0</td>\n",
       "      <td>0</td>\n",
       "      <td>1</td>\n",
       "      <td>1</td>\n",
       "    </tr>\n",
       "  </tbody>\n",
       "</table>\n",
       "</div>"
      ],
      "text/plain": [
       "              datetime  season  holiday  workingday  weather  temp   atemp  \\\n",
       "0  2011-01-01 00:00:00       1        0           0        1  9.84  14.395   \n",
       "1  2011-01-01 01:00:00       1        0           0        1  9.02  13.635   \n",
       "2  2011-01-01 02:00:00       1        0           0        1  9.02  13.635   \n",
       "3  2011-01-01 03:00:00       1        0           0        1  9.84  14.395   \n",
       "4  2011-01-01 04:00:00       1        0           0        1  9.84  14.395   \n",
       "\n",
       "   humidity  windspeed  casual  registered  count  \n",
       "0        81        0.0       3          13     16  \n",
       "1        80        0.0       8          32     40  \n",
       "2        80        0.0       5          27     32  \n",
       "3        75        0.0       3          10     13  \n",
       "4        75        0.0       0           1      1  "
      ]
     },
     "execution_count": 3,
     "metadata": {},
     "output_type": "execute_result"
    }
   ],
   "source": [
    "df.head()"
   ]
  },
  {
   "cell_type": "code",
   "execution_count": 4,
   "metadata": {},
   "outputs": [
    {
     "data": {
      "text/plain": [
       "(10886, 12)"
      ]
     },
     "execution_count": 4,
     "metadata": {},
     "output_type": "execute_result"
    }
   ],
   "source": [
    "df.shape"
   ]
  },
  {
   "cell_type": "code",
   "execution_count": 5,
   "metadata": {},
   "outputs": [
    {
     "data": {
      "text/plain": [
       "datetime      0\n",
       "season        0\n",
       "holiday       0\n",
       "workingday    0\n",
       "weather       0\n",
       "temp          0\n",
       "atemp         0\n",
       "humidity      0\n",
       "windspeed     0\n",
       "casual        0\n",
       "registered    0\n",
       "count         0\n",
       "dtype: int64"
      ]
     },
     "execution_count": 5,
     "metadata": {},
     "output_type": "execute_result"
    }
   ],
   "source": [
    "df.isna().sum()"
   ]
  },
  {
   "cell_type": "code",
   "execution_count": 6,
   "metadata": {},
   "outputs": [
    {
     "data": {
      "text/plain": [
       "0"
      ]
     },
     "execution_count": 6,
     "metadata": {},
     "output_type": "execute_result"
    }
   ],
   "source": [
    "df.duplicated().sum()"
   ]
  },
  {
   "cell_type": "markdown",
   "metadata": {},
   "source": [
    "- No missing values are there.\n",
    "- No duplicates are there."
   ]
  },
  {
   "cell_type": "code",
   "execution_count": 7,
   "metadata": {},
   "outputs": [
    {
     "data": {
      "text/plain": [
       "datetime      10886\n",
       "season            4\n",
       "holiday           2\n",
       "workingday        2\n",
       "weather           4\n",
       "temp             49\n",
       "atemp            60\n",
       "humidity         89\n",
       "windspeed        28\n",
       "casual          309\n",
       "registered      731\n",
       "count           822\n",
       "dtype: int64"
      ]
     },
     "execution_count": 7,
     "metadata": {},
     "output_type": "execute_result"
    }
   ],
   "source": [
    "df.nunique()"
   ]
  },
  {
   "cell_type": "markdown",
   "metadata": {},
   "source": [
    "- season, holiday, workingday and weather are the features that have 4, 2, 2 and 4 distinct values.\n",
    "- So, these columns are categorical columns (and hence these features can be converted to categorical dtype).\n",
    "- temp, atemp, humidity, windspeed, casual, registered, count are continous numerical features."
   ]
  },
  {
   "cell_type": "code",
   "execution_count": 8,
   "metadata": {},
   "outputs": [],
   "source": [
    "categorical_features = ['season', 'holiday', 'workingday', 'weather']\n",
    "numerical_features = ['temp', 'atemp', 'humidity', 'windspeed', 'casual', 'registered', 'count']"
   ]
  },
  {
   "cell_type": "code",
   "execution_count": 9,
   "metadata": {},
   "outputs": [],
   "source": [
    "for feature in categorical_features:\n",
    "    df[feature] = pd.Categorical(df[feature])"
   ]
  },
  {
   "cell_type": "markdown",
   "metadata": {},
   "source": [
    "## Extracting time components\n",
    "- *Converting datetime to pandas datetime format and Extracting time components*"
   ]
  },
  {
   "cell_type": "code",
   "execution_count": 10,
   "metadata": {},
   "outputs": [],
   "source": [
    "df['datetime'] = pd.to_datetime(df['datetime'])"
   ]
  },
  {
   "cell_type": "code",
   "execution_count": 11,
   "metadata": {},
   "outputs": [
    {
     "data": {
      "text/plain": [
       "(Timestamp('2011-01-01 00:00:00'), Timestamp('2012-12-19 23:00:00'))"
      ]
     },
     "execution_count": 11,
     "metadata": {},
     "output_type": "execute_result"
    }
   ],
   "source": [
    "first_date, last_date = np.min(df['datetime']), np.max(df['datetime'])\n",
    "first_date, last_date"
   ]
  },
  {
   "cell_type": "markdown",
   "metadata": {},
   "source": [
    "- Date is available for almost 2 full years (2011, 2012)"
   ]
  },
  {
   "cell_type": "code",
   "execution_count": 12,
   "metadata": {},
   "outputs": [],
   "source": [
    "df['year'] = pd.Categorical(df['datetime'].dt.year)\n",
    "df['month'] = pd.Categorical(df['datetime'].dt.month)\n",
    "df['week'] = pd.Categorical(df['datetime'].dt.isocalendar()['week'])\n",
    "df['week_day'] = pd.Categorical(df['datetime'].dt.weekday)\n",
    "df['hour'] = pd.Categorical(df['datetime'].dt.hour)"
   ]
  },
  {
   "cell_type": "code",
   "execution_count": 13,
   "metadata": {},
   "outputs": [],
   "source": [
    "def categorize_hour(hour: int) -> str:\n",
    "    if 6 <= hour < 12:\n",
    "        return 'Morning'\n",
    "    elif 12 <= hour < 16:\n",
    "        return 'Afternoon'\n",
    "    elif 16 <= hour < 20:\n",
    "        return 'Evening'\n",
    "    else:\n",
    "        return 'Night'"
   ]
  },
  {
   "cell_type": "code",
   "execution_count": 14,
   "metadata": {},
   "outputs": [],
   "source": [
    "df['time_of_day'] = df['hour'].apply(categorize_hour)"
   ]
  },
  {
   "cell_type": "code",
   "execution_count": 15,
   "metadata": {},
   "outputs": [],
   "source": [
    "time_components = ['year', 'month', 'week', 'week_day', 'hour', 'time_of_day']"
   ]
  },
  {
   "cell_type": "markdown",
   "metadata": {},
   "source": [
    "## Miscellaneous Checks"
   ]
  },
  {
   "cell_type": "markdown",
   "metadata": {},
   "source": [
    "- Given Dataset is sanitized and useful features has been extracted.\n",
    "- So, EDA can be started."
   ]
  },
  {
   "cell_type": "markdown",
   "metadata": {},
   "source": [
    "# EDA"
   ]
  },
  {
   "cell_type": "markdown",
   "metadata": {},
   "source": [
    "## Basic Checks"
   ]
  },
  {
   "cell_type": "markdown",
   "metadata": {},
   "source": [
    "### info() and describe()"
   ]
  },
  {
   "cell_type": "code",
   "execution_count": 16,
   "metadata": {},
   "outputs": [
    {
     "name": "stdout",
     "output_type": "stream",
     "text": [
      "<class 'pandas.core.frame.DataFrame'>\n",
      "RangeIndex: 10886 entries, 0 to 10885\n",
      "Data columns (total 18 columns):\n",
      " #   Column       Non-Null Count  Dtype         \n",
      "---  ------       --------------  -----         \n",
      " 0   datetime     10886 non-null  datetime64[ns]\n",
      " 1   season       10886 non-null  category      \n",
      " 2   holiday      10886 non-null  category      \n",
      " 3   workingday   10886 non-null  category      \n",
      " 4   weather      10886 non-null  category      \n",
      " 5   temp         10886 non-null  float64       \n",
      " 6   atemp        10886 non-null  float64       \n",
      " 7   humidity     10886 non-null  int64         \n",
      " 8   windspeed    10886 non-null  float64       \n",
      " 9   casual       10886 non-null  int64         \n",
      " 10  registered   10886 non-null  int64         \n",
      " 11  count        10886 non-null  int64         \n",
      " 12  year         10886 non-null  category      \n",
      " 13  month        10886 non-null  category      \n",
      " 14  week         10886 non-null  category      \n",
      " 15  week_day     10886 non-null  category      \n",
      " 16  hour         10886 non-null  category      \n",
      " 17  time_of_day  10886 non-null  object        \n",
      "dtypes: category(9), datetime64[ns](1), float64(3), int64(4), object(1)\n",
      "memory usage: 864.9+ KB\n"
     ]
    }
   ],
   "source": [
    "df.info()"
   ]
  },
  {
   "cell_type": "code",
   "execution_count": 17,
   "metadata": {},
   "outputs": [
    {
     "data": {
      "text/html": [
       "<div>\n",
       "<style scoped>\n",
       "    .dataframe tbody tr th:only-of-type {\n",
       "        vertical-align: middle;\n",
       "    }\n",
       "\n",
       "    .dataframe tbody tr th {\n",
       "        vertical-align: top;\n",
       "    }\n",
       "\n",
       "    .dataframe thead th {\n",
       "        text-align: right;\n",
       "    }\n",
       "</style>\n",
       "<table border=\"1\" class=\"dataframe\">\n",
       "  <thead>\n",
       "    <tr style=\"text-align: right;\">\n",
       "      <th></th>\n",
       "      <th>count</th>\n",
       "      <th>mean</th>\n",
       "      <th>std</th>\n",
       "      <th>min</th>\n",
       "      <th>25%</th>\n",
       "      <th>50%</th>\n",
       "      <th>75%</th>\n",
       "      <th>max</th>\n",
       "    </tr>\n",
       "  </thead>\n",
       "  <tbody>\n",
       "    <tr>\n",
       "      <th>temp</th>\n",
       "      <td>10886.0</td>\n",
       "      <td>20.230860</td>\n",
       "      <td>7.791590</td>\n",
       "      <td>0.82</td>\n",
       "      <td>13.9400</td>\n",
       "      <td>20.500</td>\n",
       "      <td>26.2400</td>\n",
       "      <td>41.0000</td>\n",
       "    </tr>\n",
       "    <tr>\n",
       "      <th>atemp</th>\n",
       "      <td>10886.0</td>\n",
       "      <td>23.655084</td>\n",
       "      <td>8.474601</td>\n",
       "      <td>0.76</td>\n",
       "      <td>16.6650</td>\n",
       "      <td>24.240</td>\n",
       "      <td>31.0600</td>\n",
       "      <td>45.4550</td>\n",
       "    </tr>\n",
       "    <tr>\n",
       "      <th>humidity</th>\n",
       "      <td>10886.0</td>\n",
       "      <td>61.886460</td>\n",
       "      <td>19.245033</td>\n",
       "      <td>0.00</td>\n",
       "      <td>47.0000</td>\n",
       "      <td>62.000</td>\n",
       "      <td>77.0000</td>\n",
       "      <td>100.0000</td>\n",
       "    </tr>\n",
       "    <tr>\n",
       "      <th>windspeed</th>\n",
       "      <td>10886.0</td>\n",
       "      <td>12.799395</td>\n",
       "      <td>8.164537</td>\n",
       "      <td>0.00</td>\n",
       "      <td>7.0015</td>\n",
       "      <td>12.998</td>\n",
       "      <td>16.9979</td>\n",
       "      <td>56.9969</td>\n",
       "    </tr>\n",
       "    <tr>\n",
       "      <th>casual</th>\n",
       "      <td>10886.0</td>\n",
       "      <td>36.021955</td>\n",
       "      <td>49.960477</td>\n",
       "      <td>0.00</td>\n",
       "      <td>4.0000</td>\n",
       "      <td>17.000</td>\n",
       "      <td>49.0000</td>\n",
       "      <td>367.0000</td>\n",
       "    </tr>\n",
       "    <tr>\n",
       "      <th>registered</th>\n",
       "      <td>10886.0</td>\n",
       "      <td>155.552177</td>\n",
       "      <td>151.039033</td>\n",
       "      <td>0.00</td>\n",
       "      <td>36.0000</td>\n",
       "      <td>118.000</td>\n",
       "      <td>222.0000</td>\n",
       "      <td>886.0000</td>\n",
       "    </tr>\n",
       "    <tr>\n",
       "      <th>count</th>\n",
       "      <td>10886.0</td>\n",
       "      <td>191.574132</td>\n",
       "      <td>181.144454</td>\n",
       "      <td>1.00</td>\n",
       "      <td>42.0000</td>\n",
       "      <td>145.000</td>\n",
       "      <td>284.0000</td>\n",
       "      <td>977.0000</td>\n",
       "    </tr>\n",
       "  </tbody>\n",
       "</table>\n",
       "</div>"
      ],
      "text/plain": [
       "              count        mean         std   min      25%      50%       75%  \\\n",
       "temp        10886.0   20.230860    7.791590  0.82  13.9400   20.500   26.2400   \n",
       "atemp       10886.0   23.655084    8.474601  0.76  16.6650   24.240   31.0600   \n",
       "humidity    10886.0   61.886460   19.245033  0.00  47.0000   62.000   77.0000   \n",
       "windspeed   10886.0   12.799395    8.164537  0.00   7.0015   12.998   16.9979   \n",
       "casual      10886.0   36.021955   49.960477  0.00   4.0000   17.000   49.0000   \n",
       "registered  10886.0  155.552177  151.039033  0.00  36.0000  118.000  222.0000   \n",
       "count       10886.0  191.574132  181.144454  1.00  42.0000  145.000  284.0000   \n",
       "\n",
       "                 max  \n",
       "temp         41.0000  \n",
       "atemp        45.4550  \n",
       "humidity    100.0000  \n",
       "windspeed    56.9969  \n",
       "casual      367.0000  \n",
       "registered  886.0000  \n",
       "count       977.0000  "
      ]
     },
     "execution_count": 17,
     "metadata": {},
     "output_type": "execute_result"
    }
   ],
   "source": [
    "df[numerical_features].describe().T"
   ]
  },
  {
   "cell_type": "code",
   "execution_count": 18,
   "metadata": {},
   "outputs": [
    {
     "data": {
      "text/html": [
       "<div>\n",
       "<style scoped>\n",
       "    .dataframe tbody tr th:only-of-type {\n",
       "        vertical-align: middle;\n",
       "    }\n",
       "\n",
       "    .dataframe tbody tr th {\n",
       "        vertical-align: top;\n",
       "    }\n",
       "\n",
       "    .dataframe thead th {\n",
       "        text-align: right;\n",
       "    }\n",
       "</style>\n",
       "<table border=\"1\" class=\"dataframe\">\n",
       "  <thead>\n",
       "    <tr style=\"text-align: right;\">\n",
       "      <th></th>\n",
       "      <th>count</th>\n",
       "      <th>unique</th>\n",
       "      <th>top</th>\n",
       "      <th>freq</th>\n",
       "    </tr>\n",
       "  </thead>\n",
       "  <tbody>\n",
       "    <tr>\n",
       "      <th>season</th>\n",
       "      <td>10886</td>\n",
       "      <td>4</td>\n",
       "      <td>4</td>\n",
       "      <td>2734</td>\n",
       "    </tr>\n",
       "    <tr>\n",
       "      <th>holiday</th>\n",
       "      <td>10886</td>\n",
       "      <td>2</td>\n",
       "      <td>0</td>\n",
       "      <td>10575</td>\n",
       "    </tr>\n",
       "    <tr>\n",
       "      <th>workingday</th>\n",
       "      <td>10886</td>\n",
       "      <td>2</td>\n",
       "      <td>1</td>\n",
       "      <td>7412</td>\n",
       "    </tr>\n",
       "    <tr>\n",
       "      <th>weather</th>\n",
       "      <td>10886</td>\n",
       "      <td>4</td>\n",
       "      <td>1</td>\n",
       "      <td>7192</td>\n",
       "    </tr>\n",
       "    <tr>\n",
       "      <th>year</th>\n",
       "      <td>10886</td>\n",
       "      <td>2</td>\n",
       "      <td>2012</td>\n",
       "      <td>5464</td>\n",
       "    </tr>\n",
       "    <tr>\n",
       "      <th>month</th>\n",
       "      <td>10886</td>\n",
       "      <td>12</td>\n",
       "      <td>5</td>\n",
       "      <td>912</td>\n",
       "    </tr>\n",
       "    <tr>\n",
       "      <th>week</th>\n",
       "      <td>10886</td>\n",
       "      <td>46</td>\n",
       "      <td>27</td>\n",
       "      <td>336</td>\n",
       "    </tr>\n",
       "    <tr>\n",
       "      <th>week_day</th>\n",
       "      <td>10886</td>\n",
       "      <td>7</td>\n",
       "      <td>5</td>\n",
       "      <td>1584</td>\n",
       "    </tr>\n",
       "    <tr>\n",
       "      <th>hour</th>\n",
       "      <td>10886</td>\n",
       "      <td>24</td>\n",
       "      <td>12</td>\n",
       "      <td>456</td>\n",
       "    </tr>\n",
       "    <tr>\n",
       "      <th>time_of_day</th>\n",
       "      <td>10886</td>\n",
       "      <td>4</td>\n",
       "      <td>Night</td>\n",
       "      <td>4508</td>\n",
       "    </tr>\n",
       "  </tbody>\n",
       "</table>\n",
       "</div>"
      ],
      "text/plain": [
       "             count unique    top   freq\n",
       "season       10886      4      4   2734\n",
       "holiday      10886      2      0  10575\n",
       "workingday   10886      2      1   7412\n",
       "weather      10886      4      1   7192\n",
       "year         10886      2   2012   5464\n",
       "month        10886     12      5    912\n",
       "week         10886     46     27    336\n",
       "week_day     10886      7      5   1584\n",
       "hour         10886     24     12    456\n",
       "time_of_day  10886      4  Night   4508"
      ]
     },
     "execution_count": 18,
     "metadata": {},
     "output_type": "execute_result"
    }
   ],
   "source": [
    "df[categorical_features + time_components].describe().T"
   ]
  },
  {
   "cell_type": "markdown",
   "metadata": {},
   "source": [
    "### value_counts()"
   ]
  },
  {
   "cell_type": "code",
   "execution_count": 19,
   "metadata": {},
   "outputs": [
    {
     "name": "stdout",
     "output_type": "stream",
     "text": [
      "4    2734\n",
      "2    2733\n",
      "3    2733\n",
      "1    2686\n",
      "Name: season, dtype: int64\n",
      "--------------------------------\n",
      "0    10575\n",
      "1      311\n",
      "Name: holiday, dtype: int64\n",
      "--------------------------------\n",
      "1    7412\n",
      "0    3474\n",
      "Name: workingday, dtype: int64\n",
      "--------------------------------\n",
      "1    7192\n",
      "2    2834\n",
      "3     859\n",
      "4       1\n",
      "Name: weather, dtype: int64\n",
      "--------------------------------\n"
     ]
    }
   ],
   "source": [
    "for feature in categorical_features:\n",
    "    print(df[feature].value_counts())\n",
    "    print('--------------------------------')"
   ]
  },
  {
   "cell_type": "code",
   "execution_count": 20,
   "metadata": {},
   "outputs": [
    {
     "data": {
      "text/plain": [
       "2012    5464\n",
       "2011    5422\n",
       "Name: year, dtype: int64"
      ]
     },
     "execution_count": 20,
     "metadata": {},
     "output_type": "execute_result"
    }
   ],
   "source": [
    "df['year'].value_counts()"
   ]
  },
  {
   "cell_type": "code",
   "execution_count": 21,
   "metadata": {},
   "outputs": [
    {
     "data": {
      "text/plain": [
       "5     912\n",
       "6     912\n",
       "7     912\n",
       "8     912\n",
       "12    912\n",
       "10    911\n",
       "11    911\n",
       "4     909\n",
       "9     909\n",
       "2     901\n",
       "3     901\n",
       "1     884\n",
       "Name: month, dtype: int64"
      ]
     },
     "execution_count": 21,
     "metadata": {},
     "output_type": "execute_result"
    }
   ],
   "source": [
    "df['month'].value_counts()"
   ]
  },
  {
   "cell_type": "code",
   "execution_count": 22,
   "metadata": {},
   "outputs": [
    {
     "data": {
      "text/plain": [
       "5    1584\n",
       "6    1579\n",
       "3    1553\n",
       "0    1551\n",
       "2    1551\n",
       "1    1539\n",
       "4    1529\n",
       "Name: week_day, dtype: int64"
      ]
     },
     "execution_count": 22,
     "metadata": {},
     "output_type": "execute_result"
    }
   ],
   "source": [
    "df['week_day'].value_counts()"
   ]
  },
  {
   "cell_type": "code",
   "execution_count": 23,
   "metadata": {},
   "outputs": [
    {
     "data": {
      "text/plain": [
       "Night        4508\n",
       "Morning      2730\n",
       "Afternoon    1824\n",
       "Evening      1824\n",
       "Name: time_of_day, dtype: int64"
      ]
     },
     "execution_count": 23,
     "metadata": {},
     "output_type": "execute_result"
    }
   ],
   "source": [
    "df['time_of_day'].value_counts()"
   ]
  },
  {
   "cell_type": "markdown",
   "metadata": {},
   "source": [
    "## Group By Analysis"
   ]
  },
  {
   "cell_type": "code",
   "execution_count": 96,
   "metadata": {},
   "outputs": [],
   "source": [
    "agg_dict = {\n",
    "    'temp': 'mean',\n",
    "    'atemp': 'mean',\n",
    "    'humidity': 'mean',\n",
    "    'windspeed': 'mean',\n",
    "\n",
    "    'casual': 'sum',\n",
    "    'registered': 'sum',\n",
    "    'count': 'sum'\n",
    "}"
   ]
  },
  {
   "cell_type": "markdown",
   "metadata": {},
   "source": [
    "### Group by season"
   ]
  },
  {
   "cell_type": "code",
   "execution_count": 97,
   "metadata": {},
   "outputs": [
    {
     "data": {
      "text/html": [
       "<div>\n",
       "<style scoped>\n",
       "    .dataframe tbody tr th:only-of-type {\n",
       "        vertical-align: middle;\n",
       "    }\n",
       "\n",
       "    .dataframe tbody tr th {\n",
       "        vertical-align: top;\n",
       "    }\n",
       "\n",
       "    .dataframe thead th {\n",
       "        text-align: right;\n",
       "    }\n",
       "</style>\n",
       "<table border=\"1\" class=\"dataframe\">\n",
       "  <thead>\n",
       "    <tr style=\"text-align: right;\">\n",
       "      <th></th>\n",
       "      <th>season</th>\n",
       "      <th>temp</th>\n",
       "      <th>atemp</th>\n",
       "      <th>humidity</th>\n",
       "      <th>windspeed</th>\n",
       "      <th>casual</th>\n",
       "      <th>registered</th>\n",
       "      <th>count</th>\n",
       "    </tr>\n",
       "  </thead>\n",
       "  <tbody>\n",
       "    <tr>\n",
       "      <th>0</th>\n",
       "      <td>1</td>\n",
       "      <td>12.530491</td>\n",
       "      <td>15.228956</td>\n",
       "      <td>56.297841</td>\n",
       "      <td>14.636978</td>\n",
       "      <td>41605</td>\n",
       "      <td>270893</td>\n",
       "      <td>312498</td>\n",
       "    </tr>\n",
       "    <tr>\n",
       "      <th>1</th>\n",
       "      <td>2</td>\n",
       "      <td>22.823483</td>\n",
       "      <td>26.647098</td>\n",
       "      <td>60.852909</td>\n",
       "      <td>13.405607</td>\n",
       "      <td>129672</td>\n",
       "      <td>458610</td>\n",
       "      <td>588282</td>\n",
       "    </tr>\n",
       "    <tr>\n",
       "      <th>2</th>\n",
       "      <td>3</td>\n",
       "      <td>28.789111</td>\n",
       "      <td>32.540783</td>\n",
       "      <td>64.123674</td>\n",
       "      <td>11.508862</td>\n",
       "      <td>142718</td>\n",
       "      <td>497944</td>\n",
       "      <td>640662</td>\n",
       "    </tr>\n",
       "    <tr>\n",
       "      <th>3</th>\n",
       "      <td>4</td>\n",
       "      <td>16.649239</td>\n",
       "      <td>20.059909</td>\n",
       "      <td>66.173738</td>\n",
       "      <td>11.678147</td>\n",
       "      <td>78140</td>\n",
       "      <td>465894</td>\n",
       "      <td>544034</td>\n",
       "    </tr>\n",
       "  </tbody>\n",
       "</table>\n",
       "</div>"
      ],
      "text/plain": [
       "  season       temp      atemp   humidity  windspeed  casual  registered  \\\n",
       "0      1  12.530491  15.228956  56.297841  14.636978   41605      270893   \n",
       "1      2  22.823483  26.647098  60.852909  13.405607  129672      458610   \n",
       "2      3  28.789111  32.540783  64.123674  11.508862  142718      497944   \n",
       "3      4  16.649239  20.059909  66.173738  11.678147   78140      465894   \n",
       "\n",
       "    count  \n",
       "0  312498  \n",
       "1  588282  \n",
       "2  640662  \n",
       "3  544034  "
      ]
     },
     "execution_count": 97,
     "metadata": {},
     "output_type": "execute_result"
    }
   ],
   "source": [
    "grouping_feature = \"season\"\n",
    "\n",
    "temp_df = df.groupby(grouping_feature).agg(agg_dict).reset_index()\n",
    "temp_df"
   ]
  },
  {
   "cell_type": "code",
   "execution_count": 98,
   "metadata": {},
   "outputs": [
    {
     "data": {
      "image/png": "[encoded data removed]",
      "text/plain": [
       "<Figure size 432x288 with 1 Axes>"
      ]
     },
     "metadata": {
      "needs_background": "light"
     },
     "output_type": "display_data"
    }
   ],
   "source": [
    "sns.barplot(data = temp_df, x = grouping_feature, y = \"temp\")\n",
    "plt.title(f\"Average temperature vs {grouping_feature}\")\n",
    "plt.show()"
   ]
  },
  {
   "cell_type": "code",
   "execution_count": 99,
   "metadata": {},
   "outputs": [
    {
     "data": {
      "image/png": "[encoded data removed]",
      "text/plain": [
       "<Figure size 432x288 with 1 Axes>"
      ]
     },
     "metadata": {
      "needs_background": "light"
     },
     "output_type": "display_data"
    }
   ],
   "source": [
    "sns.barplot(data = temp_df, x = grouping_feature, y = \"atemp\")\n",
    "plt.title(f\"Average feeling temperature vs {grouping_feature}\")\n",
    "plt.show()"
   ]
  },
  {
   "cell_type": "code",
   "execution_count": 100,
   "metadata": {},
   "outputs": [
    {
     "data": {
      "image/png": "[encoded data removed]",
      "text/plain": [
       "<Figure size 432x288 with 1 Axes>"
      ]
     },
     "metadata": {
      "needs_background": "light"
     },
     "output_type": "display_data"
    }
   ],
   "source": [
    "sns.barplot(data = temp_df, x = grouping_feature, y = \"humidity\")\n",
    "plt.title(f\"Average humidity vs {grouping_feature}\")\n",
    "plt.show()"
   ]
  },
  {
   "cell_type": "code",
   "execution_count": 101,
   "metadata": {},
   "outputs": [
    {
     "data": {
      "image/png": "[encoded data removed]",
      "text/plain": [
       "<Figure size 432x288 with 1 Axes>"
      ]
     },
     "metadata": {
      "needs_background": "light"
     },
     "output_type": "display_data"
    }
   ],
   "source": [
    "sns.barplot(data = temp_df, x = grouping_feature, y = \"windspeed\")\n",
    "plt.title(f\"Average windspeed vs {grouping_feature}\")\n",
    "plt.show()"
   ]
  },
  {
   "cell_type": "code",
   "execution_count": 102,
   "metadata": {},
   "outputs": [
    {
     "data": {
      "image/png": "[encoded data removed]",
      "text/plain": [
       "<Figure size 432x288 with 1 Axes>"
      ]
     },
     "metadata": {
      "needs_background": "light"
     },
     "output_type": "display_data"
    }
   ],
   "source": [
    "sns.barplot(data = temp_df, x = grouping_feature, y = \"casual\")\n",
    "plt.title(f\"Number of casual users vs {grouping_feature}\")\n",
    "plt.show()"
   ]
  },
  {
   "cell_type": "code",
   "execution_count": 103,
   "metadata": {},
   "outputs": [
    {
     "data": {
      "image/png": "[encoded data removed]",
      "text/plain": [
       "<Figure size 432x288 with 1 Axes>"
      ]
     },
     "metadata": {
      "needs_background": "light"
     },
     "output_type": "display_data"
    }
   ],
   "source": [
    "sns.barplot(data = temp_df, x = grouping_feature, y = \"registered\")\n",
    "plt.title(f\"Number of registered users vs {grouping_feature}\")\n",
    "plt.show()"
   ]
  },
  {
   "cell_type": "code",
   "execution_count": 104,
   "metadata": {},
   "outputs": [
    {
     "data": {
      "image/png": "[encoded data removed]",
      "text/plain": [
       "<Figure size 432x288 with 1 Axes>"
      ]
     },
     "metadata": {
      "needs_background": "light"
     },
     "output_type": "display_data"
    }
   ],
   "source": [
    "sns.barplot(data = temp_df, x = grouping_feature, y = \"count\")\n",
    "plt.title(f\"Number of total users vs {grouping_feature}\")\n",
    "plt.show()"
   ]
  },
  {
   "cell_type": "markdown",
   "metadata": {},
   "source": [
    "### Group by holiday"
   ]
  },
  {
   "cell_type": "code",
   "execution_count": 105,
   "metadata": {},
   "outputs": [
    {
     "data": {
      "text/html": [
       "<div>\n",
       "<style scoped>\n",
       "    .dataframe tbody tr th:only-of-type {\n",
       "        vertical-align: middle;\n",
       "    }\n",
       "\n",
       "    .dataframe tbody tr th {\n",
       "        vertical-align: top;\n",
       "    }\n",
       "\n",
       "    .dataframe thead th {\n",
       "        text-align: right;\n",
       "    }\n",
       "</style>\n",
       "<table border=\"1\" class=\"dataframe\">\n",
       "  <thead>\n",
       "    <tr style=\"text-align: right;\">\n",
       "      <th></th>\n",
       "      <th>holiday</th>\n",
       "      <th>temp</th>\n",
       "      <th>atemp</th>\n",
       "      <th>humidity</th>\n",
       "      <th>windspeed</th>\n",
       "      <th>casual</th>\n",
       "      <th>registered</th>\n",
       "      <th>count</th>\n",
       "    </tr>\n",
       "  </thead>\n",
       "  <tbody>\n",
       "    <tr>\n",
       "      <th>0</th>\n",
       "      <td>0</td>\n",
       "      <td>20.230466</td>\n",
       "      <td>23.662662</td>\n",
       "      <td>61.880095</td>\n",
       "      <td>12.787623</td>\n",
       "      <td>376964</td>\n",
       "      <td>1650704</td>\n",
       "      <td>2027668</td>\n",
       "    </tr>\n",
       "    <tr>\n",
       "      <th>1</th>\n",
       "      <td>1</td>\n",
       "      <td>20.244244</td>\n",
       "      <td>23.397395</td>\n",
       "      <td>62.102894</td>\n",
       "      <td>13.199711</td>\n",
       "      <td>15171</td>\n",
       "      <td>42637</td>\n",
       "      <td>57808</td>\n",
       "    </tr>\n",
       "  </tbody>\n",
       "</table>\n",
       "</div>"
      ],
      "text/plain": [
       "  holiday       temp      atemp   humidity  windspeed  casual  registered  \\\n",
       "0       0  20.230466  23.662662  61.880095  12.787623  376964     1650704   \n",
       "1       1  20.244244  23.397395  62.102894  13.199711   15171       42637   \n",
       "\n",
       "     count  \n",
       "0  2027668  \n",
       "1    57808  "
      ]
     },
     "execution_count": 105,
     "metadata": {},
     "output_type": "execute_result"
    }
   ],
   "source": [
    "grouping_feature = \"holiday\"\n",
    "\n",
    "temp_df = df.groupby(grouping_feature).agg(agg_dict).reset_index()\n",
    "temp_df"
   ]
  },
  {
   "cell_type": "code",
   "execution_count": 106,
   "metadata": {},
   "outputs": [
    {
     "data": {
      "image/png": "[encoded data removed]",
      "text/plain": [
       "<Figure size 432x288 with 1 Axes>"
      ]
     },
     "metadata": {
      "needs_background": "light"
     },
     "output_type": "display_data"
    }
   ],
   "source": [
    "sns.barplot(data = temp_df, x = grouping_feature, y = \"temp\")\n",
    "plt.title(f\"Average temperature vs {grouping_feature}\")\n",
    "plt.show()"
   ]
  },
  {
   "cell_type": "code",
   "execution_count": 107,
   "metadata": {},
   "outputs": [
    {
     "data": {
      "image/png": "[encoded data removed]",
      "text/plain": [
       "<Figure size 432x288 with 1 Axes>"
      ]
     },
     "metadata": {
      "needs_background": "light"
     },
     "output_type": "display_data"
    }
   ],
   "source": [
    "sns.barplot(data = temp_df, x = grouping_feature, y = \"atemp\")\n",
    "plt.title(f\"Average feeling temperature vs {grouping_feature}\")\n",
    "plt.show()"
   ]
  },
  {
   "cell_type": "code",
   "execution_count": 108,
   "metadata": {},
   "outputs": [
    {
     "data": {
      "image/png": "[encoded data removed]",
      "text/plain": [
       "<Figure size 432x288 with 1 Axes>"
      ]
     },
     "metadata": {
      "needs_background": "light"
     },
     "output_type": "display_data"
    }
   ],
   "source": [
    "sns.barplot(data = temp_df, x = grouping_feature, y = \"humidity\")\n",
    "plt.title(f\"Average humidity vs {grouping_feature}\")\n",
    "plt.show()"
   ]
  },
  {
   "cell_type": "code",
   "execution_count": 109,
   "metadata": {},
   "outputs": [
    {
     "data": {
      "image/png": "[encoded data removed]",
      "text/plain": [
       "<Figure size 432x288 with 1 Axes>"
      ]
     },
     "metadata": {
      "needs_background": "light"
     },
     "output_type": "display_data"
    }
   ],
   "source": [
    "sns.barplot(data = temp_df, x = grouping_feature, y = \"windspeed\")\n",
    "plt.title(f\"Average windspeed vs {grouping_feature}\")\n",
    "plt.show()"
   ]
  },
  {
   "cell_type": "code",
   "execution_count": 110,
   "metadata": {},
   "outputs": [
    {
     "data": {
      "image/png": "[encoded data removed]",
      "text/plain": [
       "<Figure size 432x288 with 1 Axes>"
      ]
     },
     "metadata": {
      "needs_background": "light"
     },
     "output_type": "display_data"
    }
   ],
   "source": [
    "sns.barplot(data = temp_df, x = grouping_feature, y = \"casual\")\n",
    "plt.title(f\"Number of casual users vs {grouping_feature}\")\n",
    "plt.show()"
   ]
  },
  {
   "cell_type": "code",
   "execution_count": 111,
   "metadata": {},
   "outputs": [
    {
     "data": {
      "image/png": "[encoded data removed]",
      "text/plain": [
       "<Figure size 432x288 with 1 Axes>"
      ]
     },
     "metadata": {
      "needs_background": "light"
     },
     "output_type": "display_data"
    }
   ],
   "source": [
    "sns.barplot(data = temp_df, x = grouping_feature, y = \"registered\")\n",
    "plt.title(f\"Number of registered users vs {grouping_feature}\")\n",
    "plt.show()"
   ]
  },
  {
   "cell_type": "code",
   "execution_count": 112,
   "metadata": {},
   "outputs": [
    {
     "data": {
      "image/png": "[encoded data removed]",
      "text/plain": [
       "<Figure size 432x288 with 1 Axes>"
      ]
     },
     "metadata": {
      "needs_background": "light"
     },
     "output_type": "display_data"
    }
   ],
   "source": [
    "sns.barplot(data = temp_df, x = grouping_feature, y = \"count\")\n",
    "plt.title(f\"Number of total users vs {grouping_feature}\")\n",
    "plt.show()"
   ]
  },
  {
   "cell_type": "markdown",
   "metadata": {},
   "source": [
    "### Group by workingday"
   ]
  },
  {
   "cell_type": "code",
   "execution_count": 113,
   "metadata": {},
   "outputs": [
    {
     "data": {
      "text/html": [
       "<div>\n",
       "<style scoped>\n",
       "    .dataframe tbody tr th:only-of-type {\n",
       "        vertical-align: middle;\n",
       "    }\n",
       "\n",
       "    .dataframe tbody tr th {\n",
       "        vertical-align: top;\n",
       "    }\n",
       "\n",
       "    .dataframe thead th {\n",
       "        text-align: right;\n",
       "    }\n",
       "</style>\n",
       "<table border=\"1\" class=\"dataframe\">\n",
       "  <thead>\n",
       "    <tr style=\"text-align: right;\">\n",
       "      <th></th>\n",
       "      <th>workingday</th>\n",
       "      <th>temp</th>\n",
       "      <th>atemp</th>\n",
       "      <th>humidity</th>\n",
       "      <th>windspeed</th>\n",
       "      <th>casual</th>\n",
       "      <th>registered</th>\n",
       "      <th>count</th>\n",
       "    </tr>\n",
       "  </thead>\n",
       "  <tbody>\n",
       "    <tr>\n",
       "      <th>0</th>\n",
       "      <td>0</td>\n",
       "      <td>19.889839</td>\n",
       "      <td>23.349837</td>\n",
       "      <td>62.192286</td>\n",
       "      <td>12.639916</td>\n",
       "      <td>206037</td>\n",
       "      <td>448835</td>\n",
       "      <td>654872</td>\n",
       "    </tr>\n",
       "    <tr>\n",
       "      <th>1</th>\n",
       "      <td>1</td>\n",
       "      <td>20.390696</td>\n",
       "      <td>23.798153</td>\n",
       "      <td>61.743119</td>\n",
       "      <td>12.874143</td>\n",
       "      <td>186098</td>\n",
       "      <td>1244506</td>\n",
       "      <td>1430604</td>\n",
       "    </tr>\n",
       "  </tbody>\n",
       "</table>\n",
       "</div>"
      ],
      "text/plain": [
       "  workingday       temp      atemp   humidity  windspeed  casual  registered  \\\n",
       "0          0  19.889839  23.349837  62.192286  12.639916  206037      448835   \n",
       "1          1  20.390696  23.798153  61.743119  12.874143  186098     1244506   \n",
       "\n",
       "     count  \n",
       "0   654872  \n",
       "1  1430604  "
      ]
     },
     "execution_count": 113,
     "metadata": {},
     "output_type": "execute_result"
    }
   ],
   "source": [
    "grouping_feature = \"workingday\"\n",
    "\n",
    "temp_df = df.groupby(grouping_feature).agg(agg_dict).reset_index()\n",
    "temp_df"
   ]
  },
  {
   "cell_type": "code",
   "execution_count": 114,
   "metadata": {},
   "outputs": [
    {
     "data": {
      "image/png": "[encoded data removed]",
      "text/plain": [
       "<Figure size 432x288 with 1 Axes>"
      ]
     },
     "metadata": {
      "needs_background": "light"
     },
     "output_type": "display_data"
    }
   ],
   "source": [
    "sns.barplot(data = temp_df, x = grouping_feature, y = \"temp\")\n",
    "plt.title(f\"Average temperature vs {grouping_feature}\")\n",
    "plt.show()"
   ]
  },
  {
   "cell_type": "code",
   "execution_count": 115,
   "metadata": {},
   "outputs": [
    {
     "data": {
      "image/png": "[encoded data removed]",
      "text/plain": [
       "<Figure size 432x288 with 1 Axes>"
      ]
     },
     "metadata": {
      "needs_background": "light"
     },
     "output_type": "display_data"
    }
   ],
   "source": [
    "sns.barplot(data = temp_df, x = grouping_feature, y = \"atemp\")\n",
    "plt.title(f\"Average feeling temperature vs {grouping_feature}\")\n",
    "plt.show()"
   ]
  },
  {
   "cell_type": "code",
   "execution_count": 116,
   "metadata": {},
   "outputs": [
    {
     "data": {
      "image/png": "[encoded data removed]",
      "text/plain": [
       "<Figure size 432x288 with 1 Axes>"
      ]
     },
     "metadata": {
      "needs_background": "light"
     },
     "output_type": "display_data"
    }
   ],
   "source": [
    "sns.barplot(data = temp_df, x = grouping_feature, y = \"humidity\")\n",
    "plt.title(f\"Average humidity vs {grouping_feature}\")\n",
    "plt.show()"
   ]
  },
  {
   "cell_type": "code",
   "execution_count": 117,
   "metadata": {},
   "outputs": [
    {
     "data": {
      "image/png": "[encoded data removed]",
      "text/plain": [
       "<Figure size 432x288 with 1 Axes>"
      ]
     },
     "metadata": {
      "needs_background": "light"
     },
     "output_type": "display_data"
    }
   ],
   "source": [
    "sns.barplot(data = temp_df, x = grouping_feature, y = \"windspeed\")\n",
    "plt.title(f\"Average windspeed vs {grouping_feature}\")\n",
    "plt.show()"
   ]
  },
  {
   "cell_type": "code",
   "execution_count": 118,
   "metadata": {},
   "outputs": [
    {
     "data": {
      "image/png": "[encoded data removed]",
      "text/plain": [
       "<Figure size 432x288 with 1 Axes>"
      ]
     },
     "metadata": {
      "needs_background": "light"
     },
     "output_type": "display_data"
    }
   ],
   "source": [
    "sns.barplot(data = temp_df, x = grouping_feature, y = \"casual\")\n",
    "plt.title(f\"Number of casual users vs {grouping_feature}\")\n",
    "plt.show()"
   ]
  },
  {
   "cell_type": "code",
   "execution_count": 119,
   "metadata": {},
   "outputs": [
    {
     "data": {
      "image/png": "[encoded data removed]",
      "text/plain": [
       "<Figure size 432x288 with 1 Axes>"
      ]
     },
     "metadata": {
      "needs_background": "light"
     },
     "output_type": "display_data"
    }
   ],
   "source": [
    "sns.barplot(data = temp_df, x = grouping_feature, y = \"registered\")\n",
    "plt.title(f\"Number of registered users vs {grouping_feature}\")\n",
    "plt.show()"
   ]
  },
  {
   "cell_type": "code",
   "execution_count": 120,
   "metadata": {},
   "outputs": [
    {
     "data": {
      "image/png": "[encoded data removed]",
      "text/plain": [
       "<Figure size 432x288 with 1 Axes>"
      ]
     },
     "metadata": {
      "needs_background": "light"
     },
     "output_type": "display_data"
    }
   ],
   "source": [
    "sns.barplot(data = temp_df, x = grouping_feature, y = \"count\")\n",
    "plt.title(f\"Number of total users vs {grouping_feature}\")\n",
    "plt.show()"
   ]
  },
  {
   "cell_type": "markdown",
   "metadata": {},
   "source": [
    "### Group by weather"
   ]
  },
  {
   "cell_type": "code",
   "execution_count": 121,
   "metadata": {},
   "outputs": [
    {
     "data": {
      "text/html": [
       "<div>\n",
       "<style scoped>\n",
       "    .dataframe tbody tr th:only-of-type {\n",
       "        vertical-align: middle;\n",
       "    }\n",
       "\n",
       "    .dataframe tbody tr th {\n",
       "        vertical-align: top;\n",
       "    }\n",
       "\n",
       "    .dataframe thead th {\n",
       "        text-align: right;\n",
       "    }\n",
       "</style>\n",
       "<table border=\"1\" class=\"dataframe\">\n",
       "  <thead>\n",
       "    <tr style=\"text-align: right;\">\n",
       "      <th></th>\n",
       "      <th>weather</th>\n",
       "      <th>temp</th>\n",
       "      <th>atemp</th>\n",
       "      <th>humidity</th>\n",
       "      <th>windspeed</th>\n",
       "      <th>casual</th>\n",
       "      <th>registered</th>\n",
       "      <th>count</th>\n",
       "    </tr>\n",
       "  </thead>\n",
       "  <tbody>\n",
       "    <tr>\n",
       "      <th>0</th>\n",
       "      <td>1</td>\n",
       "      <td>20.557122</td>\n",
       "      <td>23.994126</td>\n",
       "      <td>56.716769</td>\n",
       "      <td>12.892542</td>\n",
       "      <td>289900</td>\n",
       "      <td>1186163</td>\n",
       "      <td>1476063</td>\n",
       "    </tr>\n",
       "    <tr>\n",
       "      <th>1</th>\n",
       "      <td>2</td>\n",
       "      <td>19.614608</td>\n",
       "      <td>23.072414</td>\n",
       "      <td>69.100565</td>\n",
       "      <td>12.179905</td>\n",
       "      <td>87246</td>\n",
       "      <td>419914</td>\n",
       "      <td>507160</td>\n",
       "    </tr>\n",
       "    <tr>\n",
       "      <th>2</th>\n",
       "      <td>3</td>\n",
       "      <td>19.546356</td>\n",
       "      <td>22.753091</td>\n",
       "      <td>81.341094</td>\n",
       "      <td>14.071248</td>\n",
       "      <td>14983</td>\n",
       "      <td>87106</td>\n",
       "      <td>102089</td>\n",
       "    </tr>\n",
       "    <tr>\n",
       "      <th>3</th>\n",
       "      <td>4</td>\n",
       "      <td>8.200000</td>\n",
       "      <td>11.365000</td>\n",
       "      <td>86.000000</td>\n",
       "      <td>6.003200</td>\n",
       "      <td>6</td>\n",
       "      <td>158</td>\n",
       "      <td>164</td>\n",
       "    </tr>\n",
       "  </tbody>\n",
       "</table>\n",
       "</div>"
      ],
      "text/plain": [
       "  weather       temp      atemp   humidity  windspeed  casual  registered  \\\n",
       "0       1  20.557122  23.994126  56.716769  12.892542  289900     1186163   \n",
       "1       2  19.614608  23.072414  69.100565  12.179905   87246      419914   \n",
       "2       3  19.546356  22.753091  81.341094  14.071248   14983       87106   \n",
       "3       4   8.200000  11.365000  86.000000   6.003200       6         158   \n",
       "\n",
       "     count  \n",
       "0  1476063  \n",
       "1   507160  \n",
       "2   102089  \n",
       "3      164  "
      ]
     },
     "execution_count": 121,
     "metadata": {},
     "output_type": "execute_result"
    }
   ],
   "source": [
    "grouping_feature = \"weather\"\n",
    "\n",
    "temp_df = df.groupby(grouping_feature).agg(agg_dict).reset_index()\n",
    "temp_df"
   ]
  },
  {
   "cell_type": "code",
   "execution_count": 122,
   "metadata": {},
   "outputs": [
    {
     "data": {
      "image/png": "[encoded data removed]",
      "text/plain": [
       "<Figure size 432x288 with 1 Axes>"
      ]
     },
     "metadata": {
      "needs_background": "light"
     },
     "output_type": "display_data"
    }
   ],
   "source": [
    "sns.barplot(data = temp_df, x = grouping_feature, y = \"temp\")\n",
    "plt.title(f\"Average temperature vs {grouping_feature}\")\n",
    "plt.show()"
   ]
  },
  {
   "cell_type": "code",
   "execution_count": 123,
   "metadata": {},
   "outputs": [
    {
     "data": {
      "image/png": "[encoded data removed]",
      "text/plain": [
       "<Figure size 432x288 with 1 Axes>"
      ]
     },
     "metadata": {
      "needs_background": "light"
     },
     "output_type": "display_data"
    }
   ],
   "source": [
    "sns.barplot(data = temp_df, x = grouping_feature, y = \"atemp\")\n",
    "plt.title(f\"Average feeling temperature vs {grouping_feature}\")\n",
    "plt.show()"
   ]
  },
  {
   "cell_type": "code",
   "execution_count": 124,
   "metadata": {},
   "outputs": [
    {
     "data": {
      "image/png": "[encoded data removed]",
      "text/plain": [
       "<Figure size 432x288 with 1 Axes>"
      ]
     },
     "metadata": {
      "needs_background": "light"
     },
     "output_type": "display_data"
    }
   ],
   "source": [
    "sns.barplot(data = temp_df, x = grouping_feature, y = \"humidity\")\n",
    "plt.title(f\"Average humidity vs {grouping_feature}\")\n",
    "plt.show()"
   ]
  },
  {
   "cell_type": "code",
   "execution_count": 125,
   "metadata": {},
   "outputs": [
    {
     "data": {
      "image/png": "[encoded data removed]",
      "text/plain": [
       "<Figure size 432x288 with 1 Axes>"
      ]
     },
     "metadata": {
      "needs_background": "light"
     },
     "output_type": "display_data"
    }
   ],
   "source": [
    "sns.barplot(data = temp_df, x = grouping_feature, y = \"windspeed\")\n",
    "plt.title(f\"Average windspeed vs {grouping_feature}\")\n",
    "plt.show()"
   ]
  },
  {
   "cell_type": "code",
   "execution_count": 126,
   "metadata": {},
   "outputs": [
    {
     "data": {
      "image/png": "[encoded data removed]",
      "text/plain": [
       "<Figure size 432x288 with 1 Axes>"
      ]
     },
     "metadata": {
      "needs_background": "light"
     },
     "output_type": "display_data"
    }
   ],
   "source": [
    "sns.barplot(data = temp_df, x = grouping_feature, y = \"casual\")\n",
    "plt.title(f\"Number of casual users vs {grouping_feature}\")\n",
    "plt.show()"
   ]
  },
  {
   "cell_type": "code",
   "execution_count": 127,
   "metadata": {},
   "outputs": [
    {
     "data": {
      "image/png": "[encoded data removed]",
      "text/plain": [
       "<Figure size 432x288 with 1 Axes>"
      ]
     },
     "metadata": {
      "needs_background": "light"
     },
     "output_type": "display_data"
    }
   ],
   "source": [
    "sns.barplot(data = temp_df, x = grouping_feature, y = \"registered\")\n",
    "plt.title(f\"Number of registered users vs {grouping_feature}\")\n",
    "plt.show()"
   ]
  },
  {
   "cell_type": "code",
   "execution_count": 128,
   "metadata": {},
   "outputs": [
    {
     "data": {
      "image/png": "[encoded data removed]",
      "text/plain": [
       "<Figure size 432x288 with 1 Axes>"
      ]
     },
     "metadata": {
      "needs_background": "light"
     },
     "output_type": "display_data"
    }
   ],
   "source": [
    "sns.barplot(data = temp_df, x = grouping_feature, y = \"count\")\n",
    "plt.title(f\"Number of total users vs {grouping_feature}\")\n",
    "plt.show()"
   ]
  },
  {
   "cell_type": "markdown",
   "metadata": {},
   "source": [
    "### Group by year"
   ]
  },
  {
   "cell_type": "code",
   "execution_count": 129,
   "metadata": {},
   "outputs": [
    {
     "data": {
      "text/html": [
       "<div>\n",
       "<style scoped>\n",
       "    .dataframe tbody tr th:only-of-type {\n",
       "        vertical-align: middle;\n",
       "    }\n",
       "\n",
       "    .dataframe tbody tr th {\n",
       "        vertical-align: top;\n",
       "    }\n",
       "\n",
       "    .dataframe thead th {\n",
       "        text-align: right;\n",
       "    }\n",
       "</style>\n",
       "<table border=\"1\" class=\"dataframe\">\n",
       "  <thead>\n",
       "    <tr style=\"text-align: right;\">\n",
       "      <th></th>\n",
       "      <th>year</th>\n",
       "      <th>temp</th>\n",
       "      <th>atemp</th>\n",
       "      <th>humidity</th>\n",
       "      <th>windspeed</th>\n",
       "      <th>casual</th>\n",
       "      <th>registered</th>\n",
       "      <th>count</th>\n",
       "    </tr>\n",
       "  </thead>\n",
       "  <tbody>\n",
       "    <tr>\n",
       "      <th>0</th>\n",
       "      <td>2011</td>\n",
       "      <td>19.751988</td>\n",
       "      <td>23.157086</td>\n",
       "      <td>63.405017</td>\n",
       "      <td>12.924144</td>\n",
       "      <td>155817</td>\n",
       "      <td>626162</td>\n",
       "      <td>781979</td>\n",
       "    </tr>\n",
       "    <tr>\n",
       "      <th>1</th>\n",
       "      <td>2012</td>\n",
       "      <td>20.706051</td>\n",
       "      <td>24.149254</td>\n",
       "      <td>60.379575</td>\n",
       "      <td>12.675605</td>\n",
       "      <td>236318</td>\n",
       "      <td>1067179</td>\n",
       "      <td>1303497</td>\n",
       "    </tr>\n",
       "  </tbody>\n",
       "</table>\n",
       "</div>"
      ],
      "text/plain": [
       "   year       temp      atemp   humidity  windspeed  casual  registered  \\\n",
       "0  2011  19.751988  23.157086  63.405017  12.924144  155817      626162   \n",
       "1  2012  20.706051  24.149254  60.379575  12.675605  236318     1067179   \n",
       "\n",
       "     count  \n",
       "0   781979  \n",
       "1  1303497  "
      ]
     },
     "execution_count": 129,
     "metadata": {},
     "output_type": "execute_result"
    }
   ],
   "source": [
    "grouping_feature = \"year\"\n",
    "\n",
    "temp_df = df.groupby(grouping_feature).agg(agg_dict).reset_index()\n",
    "temp_df"
   ]
  },
  {
   "cell_type": "code",
   "execution_count": 130,
   "metadata": {},
   "outputs": [
    {
     "data": {
      "image/png": "[encoded data removed]",
      "text/plain": [
       "<Figure size 432x288 with 1 Axes>"
      ]
     },
     "metadata": {
      "needs_background": "light"
     },
     "output_type": "display_data"
    }
   ],
   "source": [
    "sns.barplot(data = temp_df, x = grouping_feature, y = \"temp\")\n",
    "plt.title(f\"Average temperature vs {grouping_feature}\")\n",
    "plt.show()"
   ]
  },
  {
   "cell_type": "code",
   "execution_count": 131,
   "metadata": {},
   "outputs": [
    {
     "data": {
      "image/png": "[encoded data removed]",
      "text/plain": [
       "<Figure size 432x288 with 1 Axes>"
      ]
     },
     "metadata": {
      "needs_background": "light"
     },
     "output_type": "display_data"
    }
   ],
   "source": [
    "sns.barplot(data = temp_df, x = grouping_feature, y = \"atemp\")\n",
    "plt.title(f\"Average feeling temperature vs {grouping_feature}\")\n",
    "plt.show()"
   ]
  },
  {
   "cell_type": "code",
   "execution_count": 132,
   "metadata": {},
   "outputs": [
    {
     "data": {
      "image/png": "[encoded data removed]",
      "text/plain": [
       "<Figure size 432x288 with 1 Axes>"
      ]
     },
     "metadata": {
      "needs_background": "light"
     },
     "output_type": "display_data"
    }
   ],
   "source": [
    "sns.barplot(data = temp_df, x = grouping_feature, y = \"humidity\")\n",
    "plt.title(f\"Average humidity vs {grouping_feature}\")\n",
    "plt.show()"
   ]
  },
  {
   "cell_type": "code",
   "execution_count": 133,
   "metadata": {},
   "outputs": [
    {
     "data": {
      "image/png": "[encoded data removed]",
      "text/plain": [
       "<Figure size 432x288 with 1 Axes>"
      ]
     },
     "metadata": {
      "needs_background": "light"
     },
     "output_type": "display_data"
    }
   ],
   "source": [
    "sns.barplot(data = temp_df, x = grouping_feature, y = \"windspeed\")\n",
    "plt.title(f\"Average windspeed vs {grouping_feature}\")\n",
    "plt.show()"
   ]
  },
  {
   "cell_type": "code",
   "execution_count": 134,
   "metadata": {},
   "outputs": [
    {
     "data": {
      "image/png": "[encoded data removed]",
      "text/plain": [
       "<Figure size 432x288 with 1 Axes>"
      ]
     },
     "metadata": {
      "needs_background": "light"
     },
     "output_type": "display_data"
    }
   ],
   "source": [
    "sns.barplot(data = temp_df, x = grouping_feature, y = \"casual\")\n",
    "plt.title(f\"Number of casual users vs {grouping_feature}\")\n",
    "plt.show()"
   ]
  },
  {
   "cell_type": "code",
   "execution_count": 135,
   "metadata": {},
   "outputs": [
    {
     "data": {
      "image/png": "[encoded data removed]",
      "text/plain": [
       "<Figure size 432x288 with 1 Axes>"
      ]
     },
     "metadata": {
      "needs_background": "light"
     },
     "output_type": "display_data"
    }
   ],
   "source": [
    "sns.barplot(data = temp_df, x = grouping_feature, y = \"registered\")\n",
    "plt.title(f\"Number of registered users vs {grouping_feature}\")\n",
    "plt.show()"
   ]
  },
  {
   "cell_type": "code",
   "execution_count": 136,
   "metadata": {},
   "outputs": [
    {
     "data": {
      "image/png": "[encoded data removed]",
      "text/plain": [
       "<Figure size 432x288 with 1 Axes>"
      ]
     },
     "metadata": {
      "needs_background": "light"
     },
     "output_type": "display_data"
    }
   ],
   "source": [
    "sns.barplot(data = temp_df, x = grouping_feature, y = \"count\")\n",
    "plt.title(f\"Number of total users vs {grouping_feature}\")\n",
    "plt.show()"
   ]
  },
  {
   "cell_type": "markdown",
   "metadata": {},
   "source": [
    "### Group by month"
   ]
  },
  {
   "cell_type": "code",
   "execution_count": 137,
   "metadata": {},
   "outputs": [
    {
     "data": {
      "text/html": [
       "<div>\n",
       "<style scoped>\n",
       "    .dataframe tbody tr th:only-of-type {\n",
       "        vertical-align: middle;\n",
       "    }\n",
       "\n",
       "    .dataframe tbody tr th {\n",
       "        vertical-align: top;\n",
       "    }\n",
       "\n",
       "    .dataframe thead th {\n",
       "        text-align: right;\n",
       "    }\n",
       "</style>\n",
       "<table border=\"1\" class=\"dataframe\">\n",
       "  <thead>\n",
       "    <tr style=\"text-align: right;\">\n",
       "      <th></th>\n",
       "      <th>month</th>\n",
       "      <th>temp</th>\n",
       "      <th>atemp</th>\n",
       "      <th>humidity</th>\n",
       "      <th>windspeed</th>\n",
       "      <th>casual</th>\n",
       "      <th>registered</th>\n",
       "      <th>count</th>\n",
       "    </tr>\n",
       "  </thead>\n",
       "  <tbody>\n",
       "    <tr>\n",
       "      <th>0</th>\n",
       "      <td>1</td>\n",
       "      <td>9.840000</td>\n",
       "      <td>12.077579</td>\n",
       "      <td>55.911765</td>\n",
       "      <td>14.582959</td>\n",
       "      <td>7252</td>\n",
       "      <td>72632</td>\n",
       "      <td>79884</td>\n",
       "    </tr>\n",
       "    <tr>\n",
       "      <th>1</th>\n",
       "      <td>2</td>\n",
       "      <td>11.798535</td>\n",
       "      <td>14.532608</td>\n",
       "      <td>56.296337</td>\n",
       "      <td>13.963707</td>\n",
       "      <td>9297</td>\n",
       "      <td>89816</td>\n",
       "      <td>99113</td>\n",
       "    </tr>\n",
       "    <tr>\n",
       "      <th>2</th>\n",
       "      <td>3</td>\n",
       "      <td>15.902175</td>\n",
       "      <td>19.017220</td>\n",
       "      <td>56.678135</td>\n",
       "      <td>15.363249</td>\n",
       "      <td>25056</td>\n",
       "      <td>108445</td>\n",
       "      <td>133501</td>\n",
       "    </tr>\n",
       "    <tr>\n",
       "      <th>3</th>\n",
       "      <td>4</td>\n",
       "      <td>18.718372</td>\n",
       "      <td>22.305891</td>\n",
       "      <td>55.697470</td>\n",
       "      <td>15.581090</td>\n",
       "      <td>39813</td>\n",
       "      <td>127589</td>\n",
       "      <td>167402</td>\n",
       "    </tr>\n",
       "    <tr>\n",
       "      <th>4</th>\n",
       "      <td>5</td>\n",
       "      <td>22.674079</td>\n",
       "      <td>26.632374</td>\n",
       "      <td>68.084430</td>\n",
       "      <td>12.293956</td>\n",
       "      <td>41285</td>\n",
       "      <td>158862</td>\n",
       "      <td>200147</td>\n",
       "    </tr>\n",
       "    <tr>\n",
       "      <th>5</th>\n",
       "      <td>6</td>\n",
       "      <td>27.064496</td>\n",
       "      <td>30.988750</td>\n",
       "      <td>58.759868</td>\n",
       "      <td>12.348930</td>\n",
       "      <td>48574</td>\n",
       "      <td>172159</td>\n",
       "      <td>220733</td>\n",
       "    </tr>\n",
       "    <tr>\n",
       "      <th>6</th>\n",
       "      <td>7</td>\n",
       "      <td>30.841711</td>\n",
       "      <td>34.900395</td>\n",
       "      <td>58.402412</td>\n",
       "      <td>11.019928</td>\n",
       "      <td>50947</td>\n",
       "      <td>163670</td>\n",
       "      <td>214617</td>\n",
       "    </tr>\n",
       "    <tr>\n",
       "      <th>7</th>\n",
       "      <td>8</td>\n",
       "      <td>29.736689</td>\n",
       "      <td>33.122001</td>\n",
       "      <td>63.010965</td>\n",
       "      <td>11.931179</td>\n",
       "      <td>45870</td>\n",
       "      <td>167646</td>\n",
       "      <td>213516</td>\n",
       "    </tr>\n",
       "    <tr>\n",
       "      <th>8</th>\n",
       "      <td>9</td>\n",
       "      <td>25.779032</td>\n",
       "      <td>29.590248</td>\n",
       "      <td>70.980198</td>\n",
       "      <td>11.575698</td>\n",
       "      <td>45901</td>\n",
       "      <td>166628</td>\n",
       "      <td>212529</td>\n",
       "    </tr>\n",
       "    <tr>\n",
       "      <th>9</th>\n",
       "      <td>10</td>\n",
       "      <td>20.933853</td>\n",
       "      <td>24.739682</td>\n",
       "      <td>69.412733</td>\n",
       "      <td>11.226457</td>\n",
       "      <td>38087</td>\n",
       "      <td>169347</td>\n",
       "      <td>207434</td>\n",
       "    </tr>\n",
       "    <tr>\n",
       "      <th>10</th>\n",
       "      <td>11</td>\n",
       "      <td>15.185752</td>\n",
       "      <td>18.326054</td>\n",
       "      <td>60.722283</td>\n",
       "      <td>13.126587</td>\n",
       "      <td>25353</td>\n",
       "      <td>151087</td>\n",
       "      <td>176440</td>\n",
       "    </tr>\n",
       "    <tr>\n",
       "      <th>11</th>\n",
       "      <td>12</td>\n",
       "      <td>13.831206</td>\n",
       "      <td>17.117220</td>\n",
       "      <td>68.383772</td>\n",
       "      <td>10.682489</td>\n",
       "      <td>14700</td>\n",
       "      <td>145460</td>\n",
       "      <td>160160</td>\n",
       "    </tr>\n",
       "  </tbody>\n",
       "</table>\n",
       "</div>"
      ],
      "text/plain": [
       "   month       temp      atemp   humidity  windspeed  casual  registered  \\\n",
       "0      1   9.840000  12.077579  55.911765  14.582959    7252       72632   \n",
       "1      2  11.798535  14.532608  56.296337  13.963707    9297       89816   \n",
       "2      3  15.902175  19.017220  56.678135  15.363249   25056      108445   \n",
       "3      4  18.718372  22.305891  55.697470  15.581090   39813      127589   \n",
       "4      5  22.674079  26.632374  68.084430  12.293956   41285      158862   \n",
       "5      6  27.064496  30.988750  58.759868  12.348930   48574      172159   \n",
       "6      7  30.841711  34.900395  58.402412  11.019928   50947      163670   \n",
       "7      8  29.736689  33.122001  63.010965  11.931179   45870      167646   \n",
       "8      9  25.779032  29.590248  70.980198  11.575698   45901      166628   \n",
       "9     10  20.933853  24.739682  69.412733  11.226457   38087      169347   \n",
       "10    11  15.185752  18.326054  60.722283  13.126587   25353      151087   \n",
       "11    12  13.831206  17.117220  68.383772  10.682489   14700      145460   \n",
       "\n",
       "     count  \n",
       "0    79884  \n",
       "1    99113  \n",
       "2   133501  \n",
       "3   167402  \n",
       "4   200147  \n",
       "5   220733  \n",
       "6   214617  \n",
       "7   213516  \n",
       "8   212529  \n",
       "9   207434  \n",
       "10  176440  \n",
       "11  160160  "
      ]
     },
     "execution_count": 137,
     "metadata": {},
     "output_type": "execute_result"
    }
   ],
   "source": [
    "grouping_feature = \"month\"\n",
    "\n",
    "temp_df = df.groupby(grouping_feature).agg(agg_dict).reset_index()\n",
    "temp_df"
   ]
  },
  {
   "cell_type": "code",
   "execution_count": 138,
   "metadata": {},
   "outputs": [
    {
     "data": {
      "image/png": "[encoded data removed]",
      "text/plain": [
       "<Figure size 432x288 with 1 Axes>"
      ]
     },
     "metadata": {
      "needs_background": "light"
     },
     "output_type": "display_data"
    }
   ],
   "source": [
    "sns.barplot(data = temp_df, x = grouping_feature, y = \"temp\")\n",
    "plt.title(f\"Average temperature vs {grouping_feature}\")\n",
    "plt.show()"
   ]
  },
  {
   "cell_type": "code",
   "execution_count": 139,
   "metadata": {},
   "outputs": [
    {
     "data": {
      "image/png": "[encoded data removed]",
      "text/plain": [
       "<Figure size 432x288 with 1 Axes>"
      ]
     },
     "metadata": {
      "needs_background": "light"
     },
     "output_type": "display_data"
    }
   ],
   "source": [
    "sns.barplot(data = temp_df, x = grouping_feature, y = \"atemp\")\n",
    "plt.title(f\"Average feeling temperature vs {grouping_feature}\")\n",
    "plt.show()"
   ]
  },
  {
   "cell_type": "code",
   "execution_count": 140,
   "metadata": {},
   "outputs": [
    {
     "data": {
      "image/png": "[encoded data removed]",
      "text/plain": [
       "<Figure size 432x288 with 1 Axes>"
      ]
     },
     "metadata": {
      "needs_background": "light"
     },
     "output_type": "display_data"
    }
   ],
   "source": [
    "sns.barplot(data = temp_df, x = grouping_feature, y = \"humidity\")\n",
    "plt.title(f\"Average humidity vs {grouping_feature}\")\n",
    "plt.show()"
   ]
  },
  {
   "cell_type": "code",
   "execution_count": 141,
   "metadata": {},
   "outputs": [
    {
     "data": {
      "image/png": "[encoded data removed]",
      "text/plain": [
       "<Figure size 432x288 with 1 Axes>"
      ]
     },
     "metadata": {
      "needs_background": "light"
     },
     "output_type": "display_data"
    }
   ],
   "source": [
    "sns.barplot(data = temp_df, x = grouping_feature, y = \"windspeed\")\n",
    "plt.title(f\"Average windspeed vs {grouping_feature}\")\n",
    "plt.show()"
   ]
  },
  {
   "cell_type": "code",
   "execution_count": 142,
   "metadata": {},
   "outputs": [
    {
     "data": {
      "image/png": "[encoded data removed]",
      "text/plain": [
       "<Figure size 432x288 with 1 Axes>"
      ]
     },
     "metadata": {
      "needs_background": "light"
     },
     "output_type": "display_data"
    }
   ],
   "source": [
    "sns.barplot(data = temp_df, x = grouping_feature, y = \"casual\")\n",
    "plt.title(f\"Number of casual users vs {grouping_feature}\")\n",
    "plt.show()"
   ]
  },
  {
   "cell_type": "code",
   "execution_count": 143,
   "metadata": {},
   "outputs": [
    {
     "data": {
      "image/png": "[encoded data removed]",
      "text/plain": [
       "<Figure size 432x288 with 1 Axes>"
      ]
     },
     "metadata": {
      "needs_background": "light"
     },
     "output_type": "display_data"
    }
   ],
   "source": [
    "sns.barplot(data = temp_df, x = grouping_feature, y = \"registered\")\n",
    "plt.title(f\"Number of registered users vs {grouping_feature}\")\n",
    "plt.show()"
   ]
  },
  {
   "cell_type": "code",
   "execution_count": 144,
   "metadata": {},
   "outputs": [
    {
     "data": {
      "image/png": "[encoded data removed]",
      "text/plain": [
       "<Figure size 432x288 with 1 Axes>"
      ]
     },
     "metadata": {
      "needs_background": "light"
     },
     "output_type": "display_data"
    }
   ],
   "source": [
    "sns.barplot(data = temp_df, x = grouping_feature, y = \"count\")\n",
    "plt.title(f\"Number of total users vs {grouping_feature}\")\n",
    "plt.show()"
   ]
  },
  {
   "cell_type": "markdown",
   "metadata": {},
   "source": [
    "### Group by week_day"
   ]
  },
  {
   "cell_type": "code",
   "execution_count": 145,
   "metadata": {},
   "outputs": [
    {
     "data": {
      "text/html": [
       "<div>\n",
       "<style scoped>\n",
       "    .dataframe tbody tr th:only-of-type {\n",
       "        vertical-align: middle;\n",
       "    }\n",
       "\n",
       "    .dataframe tbody tr th {\n",
       "        vertical-align: top;\n",
       "    }\n",
       "\n",
       "    .dataframe thead th {\n",
       "        text-align: right;\n",
       "    }\n",
       "</style>\n",
       "<table border=\"1\" class=\"dataframe\">\n",
       "  <thead>\n",
       "    <tr style=\"text-align: right;\">\n",
       "      <th></th>\n",
       "      <th>week_day</th>\n",
       "      <th>temp</th>\n",
       "      <th>atemp</th>\n",
       "      <th>humidity</th>\n",
       "      <th>windspeed</th>\n",
       "      <th>casual</th>\n",
       "      <th>registered</th>\n",
       "      <th>count</th>\n",
       "    </tr>\n",
       "  </thead>\n",
       "  <tbody>\n",
       "    <tr>\n",
       "      <th>0</th>\n",
       "      <td>0</td>\n",
       "      <td>20.620542</td>\n",
       "      <td>24.178507</td>\n",
       "      <td>62.508059</td>\n",
       "      <td>12.921691</td>\n",
       "      <td>46288</td>\n",
       "      <td>249008</td>\n",
       "      <td>295296</td>\n",
       "    </tr>\n",
       "    <tr>\n",
       "      <th>1</th>\n",
       "      <td>1</td>\n",
       "      <td>20.732307</td>\n",
       "      <td>24.252898</td>\n",
       "      <td>63.662768</td>\n",
       "      <td>13.338829</td>\n",
       "      <td>35365</td>\n",
       "      <td>256620</td>\n",
       "      <td>291985</td>\n",
       "    </tr>\n",
       "    <tr>\n",
       "      <th>2</th>\n",
       "      <td>2</td>\n",
       "      <td>20.323417</td>\n",
       "      <td>23.764271</td>\n",
       "      <td>64.299162</td>\n",
       "      <td>12.635379</td>\n",
       "      <td>34931</td>\n",
       "      <td>257295</td>\n",
       "      <td>292226</td>\n",
       "    </tr>\n",
       "    <tr>\n",
       "      <th>3</th>\n",
       "      <td>3</td>\n",
       "      <td>20.251835</td>\n",
       "      <td>23.641465</td>\n",
       "      <td>58.397939</td>\n",
       "      <td>13.138079</td>\n",
       "      <td>37283</td>\n",
       "      <td>269118</td>\n",
       "      <td>306401</td>\n",
       "    </tr>\n",
       "    <tr>\n",
       "      <th>4</th>\n",
       "      <td>4</td>\n",
       "      <td>19.993198</td>\n",
       "      <td>23.066609</td>\n",
       "      <td>59.913015</td>\n",
       "      <td>12.398527</td>\n",
       "      <td>47402</td>\n",
       "      <td>255102</td>\n",
       "      <td>302504</td>\n",
       "    </tr>\n",
       "    <tr>\n",
       "      <th>5</th>\n",
       "      <td>5</td>\n",
       "      <td>19.668611</td>\n",
       "      <td>23.121266</td>\n",
       "      <td>61.253157</td>\n",
       "      <td>12.670136</td>\n",
       "      <td>100782</td>\n",
       "      <td>210736</td>\n",
       "      <td>311518</td>\n",
       "    </tr>\n",
       "    <tr>\n",
       "      <th>6</th>\n",
       "      <td>6</td>\n",
       "      <td>20.041963</td>\n",
       "      <td>23.569766</td>\n",
       "      <td>63.151995</td>\n",
       "      <td>12.499344</td>\n",
       "      <td>90084</td>\n",
       "      <td>195462</td>\n",
       "      <td>285546</td>\n",
       "    </tr>\n",
       "  </tbody>\n",
       "</table>\n",
       "</div>"
      ],
      "text/plain": [
       "  week_day       temp      atemp   humidity  windspeed  casual  registered  \\\n",
       "0        0  20.620542  24.178507  62.508059  12.921691   46288      249008   \n",
       "1        1  20.732307  24.252898  63.662768  13.338829   35365      256620   \n",
       "2        2  20.323417  23.764271  64.299162  12.635379   34931      257295   \n",
       "3        3  20.251835  23.641465  58.397939  13.138079   37283      269118   \n",
       "4        4  19.993198  23.066609  59.913015  12.398527   47402      255102   \n",
       "5        5  19.668611  23.121266  61.253157  12.670136  100782      210736   \n",
       "6        6  20.041963  23.569766  63.151995  12.499344   90084      195462   \n",
       "\n",
       "    count  \n",
       "0  295296  \n",
       "1  291985  \n",
       "2  292226  \n",
       "3  306401  \n",
       "4  302504  \n",
       "5  311518  \n",
       "6  285546  "
      ]
     },
     "execution_count": 145,
     "metadata": {},
     "output_type": "execute_result"
    }
   ],
   "source": [
    "grouping_feature = \"week_day\"\n",
    "\n",
    "temp_df = df.groupby(grouping_feature).agg(agg_dict).reset_index()\n",
    "temp_df"
   ]
  },
  {
   "cell_type": "code",
   "execution_count": 146,
   "metadata": {},
   "outputs": [
    {
     "data": {
      "image/png": "[encoded data removed]",
      "text/plain": [
       "<Figure size 432x288 with 1 Axes>"
      ]
     },
     "metadata": {
      "needs_background": "light"
     },
     "output_type": "display_data"
    }
   ],
   "source": [
    "sns.barplot(data = temp_df, x = grouping_feature, y = \"temp\")\n",
    "plt.title(f\"Average temperature vs {grouping_feature}\")\n",
    "plt.show()"
   ]
  },
  {
   "cell_type": "code",
   "execution_count": 147,
   "metadata": {},
   "outputs": [
    {
     "data": {
      "image/png": "[encoded data removed]",
      "text/plain": [
       "<Figure size 432x288 with 1 Axes>"
      ]
     },
     "metadata": {
      "needs_background": "light"
     },
     "output_type": "display_data"
    }
   ],
   "source": [
    "sns.barplot(data = temp_df, x = grouping_feature, y = \"atemp\")\n",
    "plt.title(f\"Average feeling temperature vs {grouping_feature}\")\n",
    "plt.show()"
   ]
  },
  {
   "cell_type": "code",
   "execution_count": 148,
   "metadata": {},
   "outputs": [
    {
     "data": {
      "image/png": "[encoded data removed]",
      "text/plain": [
       "<Figure size 432x288 with 1 Axes>"
      ]
     },
     "metadata": {
      "needs_background": "light"
     },
     "output_type": "display_data"
    }
   ],
   "source": [
    "sns.barplot(data = temp_df, x = grouping_feature, y = \"humidity\")\n",
    "plt.title(f\"Average humidity vs {grouping_feature}\")\n",
    "plt.show()"
   ]
  },
  {
   "cell_type": "code",
   "execution_count": 149,
   "metadata": {},
   "outputs": [
    {
     "data": {
      "image/png": "[encoded data removed]",
      "text/plain": [
       "<Figure size 432x288 with 1 Axes>"
      ]
     },
     "metadata": {
      "needs_background": "light"
     },
     "output_type": "display_data"
    }
   ],
   "source": [
    "sns.barplot(data = temp_df, x = grouping_feature, y = \"windspeed\")\n",
    "plt.title(f\"Average windspeed vs {grouping_feature}\")\n",
    "plt.show()"
   ]
  },
  {
   "cell_type": "code",
   "execution_count": 150,
   "metadata": {},
   "outputs": [
    {
     "data": {
      "image/png": "[encoded data removed]",
      "text/plain": [
       "<Figure size 432x288 with 1 Axes>"
      ]
     },
     "metadata": {
      "needs_background": "light"
     },
     "output_type": "display_data"
    }
   ],
   "source": [
    "sns.barplot(data = temp_df, x = grouping_feature, y = \"casual\")\n",
    "plt.title(f\"Number of casual users vs {grouping_feature}\")\n",
    "plt.show()"
   ]
  },
  {
   "cell_type": "code",
   "execution_count": 151,
   "metadata": {},
   "outputs": [
    {
     "data": {
      "image/png": "[encoded data removed]",
      "text/plain": [
       "<Figure size 432x288 with 1 Axes>"
      ]
     },
     "metadata": {
      "needs_background": "light"
     },
     "output_type": "display_data"
    }
   ],
   "source": [
    "sns.barplot(data = temp_df, x = grouping_feature, y = \"registered\")\n",
    "plt.title(f\"Number of registered users vs {grouping_feature}\")\n",
    "plt.show()"
   ]
  },
  {
   "cell_type": "code",
   "execution_count": 152,
   "metadata": {},
   "outputs": [
    {
     "data": {
      "image/png": "[encoded data removed]",
      "text/plain": [
       "<Figure size 432x288 with 1 Axes>"
      ]
     },
     "metadata": {
      "needs_background": "light"
     },
     "output_type": "display_data"
    }
   ],
   "source": [
    "sns.barplot(data = temp_df, x = grouping_feature, y = \"count\")\n",
    "plt.title(f\"Number of total users vs {grouping_feature}\")\n",
    "plt.show()"
   ]
  },
  {
   "cell_type": "markdown",
   "metadata": {},
   "source": [
    "### Group by time_of_day"
   ]
  },
  {
   "cell_type": "code",
   "execution_count": 153,
   "metadata": {},
   "outputs": [
    {
     "data": {
      "text/html": [
       "<div>\n",
       "<style scoped>\n",
       "    .dataframe tbody tr th:only-of-type {\n",
       "        vertical-align: middle;\n",
       "    }\n",
       "\n",
       "    .dataframe tbody tr th {\n",
       "        vertical-align: top;\n",
       "    }\n",
       "\n",
       "    .dataframe thead th {\n",
       "        text-align: right;\n",
       "    }\n",
       "</style>\n",
       "<table border=\"1\" class=\"dataframe\">\n",
       "  <thead>\n",
       "    <tr style=\"text-align: right;\">\n",
       "      <th></th>\n",
       "      <th>time_of_day</th>\n",
       "      <th>temp</th>\n",
       "      <th>atemp</th>\n",
       "      <th>humidity</th>\n",
       "      <th>windspeed</th>\n",
       "      <th>casual</th>\n",
       "      <th>registered</th>\n",
       "      <th>count</th>\n",
       "    </tr>\n",
       "  </thead>\n",
       "  <tbody>\n",
       "    <tr>\n",
       "      <th>0</th>\n",
       "      <td>Afternoon</td>\n",
       "      <td>22.780175</td>\n",
       "      <td>26.324441</td>\n",
       "      <td>49.853618</td>\n",
       "      <td>15.356595</td>\n",
       "      <td>134752</td>\n",
       "      <td>326737</td>\n",
       "      <td>461489</td>\n",
       "    </tr>\n",
       "    <tr>\n",
       "      <th>1</th>\n",
       "      <td>Evening</td>\n",
       "      <td>22.311283</td>\n",
       "      <td>25.778303</td>\n",
       "      <td>52.002741</td>\n",
       "      <td>15.373014</td>\n",
       "      <td>119014</td>\n",
       "      <td>579248</td>\n",
       "      <td>698262</td>\n",
       "    </tr>\n",
       "    <tr>\n",
       "      <th>2</th>\n",
       "      <td>Morning</td>\n",
       "      <td>19.112007</td>\n",
       "      <td>22.453147</td>\n",
       "      <td>66.417216</td>\n",
       "      <td>12.287123</td>\n",
       "      <td>79049</td>\n",
       "      <td>494111</td>\n",
       "      <td>573160</td>\n",
       "    </tr>\n",
       "    <tr>\n",
       "      <th>3</th>\n",
       "      <td>Night</td>\n",
       "      <td>19.035169</td>\n",
       "      <td>22.443822</td>\n",
       "      <td>68.010426</td>\n",
       "      <td>11.033622</td>\n",
       "      <td>59320</td>\n",
       "      <td>293245</td>\n",
       "      <td>352565</td>\n",
       "    </tr>\n",
       "  </tbody>\n",
       "</table>\n",
       "</div>"
      ],
      "text/plain": [
       "  time_of_day       temp      atemp   humidity  windspeed  casual  registered  \\\n",
       "0   Afternoon  22.780175  26.324441  49.853618  15.356595  134752      326737   \n",
       "1     Evening  22.311283  25.778303  52.002741  15.373014  119014      579248   \n",
       "2     Morning  19.112007  22.453147  66.417216  12.287123   79049      494111   \n",
       "3       Night  19.035169  22.443822  68.010426  11.033622   59320      293245   \n",
       "\n",
       "    count  \n",
       "0  461489  \n",
       "1  698262  \n",
       "2  573160  \n",
       "3  352565  "
      ]
     },
     "execution_count": 153,
     "metadata": {},
     "output_type": "execute_result"
    }
   ],
   "source": [
    "grouping_feature = \"time_of_day\"\n",
    "\n",
    "temp_df = df.groupby(grouping_feature).agg(agg_dict).reset_index()\n",
    "temp_df"
   ]
  },
  {
   "cell_type": "code",
   "execution_count": 154,
   "metadata": {},
   "outputs": [
    {
     "data": {
      "image/png": "[encoded data removed]",
      "text/plain": [
       "<Figure size 432x288 with 1 Axes>"
      ]
     },
     "metadata": {
      "needs_background": "light"
     },
     "output_type": "display_data"
    }
   ],
   "source": [
    "sns.barplot(data = temp_df, x = grouping_feature, y = \"temp\")\n",
    "plt.title(f\"Average temperature vs {grouping_feature}\")\n",
    "plt.show()"
   ]
  },
  {
   "cell_type": "code",
   "execution_count": 155,
   "metadata": {},
   "outputs": [
    {
     "data": {
      "image/png": "[encoded data removed]",
      "text/plain": [
       "<Figure size 432x288 with 1 Axes>"
      ]
     },
     "metadata": {
      "needs_background": "light"
     },
     "output_type": "display_data"
    }
   ],
   "source": [
    "sns.barplot(data = temp_df, x = grouping_feature, y = \"atemp\")\n",
    "plt.title(f\"Average feeling temperature vs {grouping_feature}\")\n",
    "plt.show()"
   ]
  },
  {
   "cell_type": "code",
   "execution_count": 156,
   "metadata": {},
   "outputs": [
    {
     "data": {
      "image/png": "[encoded data removed]",
      "text/plain": [
       "<Figure size 432x288 with 1 Axes>"
      ]
     },
     "metadata": {
      "needs_background": "light"
     },
     "output_type": "display_data"
    }
   ],
   "source": [
    "sns.barplot(data = temp_df, x = grouping_feature, y = \"humidity\")\n",
    "plt.title(f\"Average humidity vs {grouping_feature}\")\n",
    "plt.show()"
   ]
  },
  {
   "cell_type": "code",
   "execution_count": 157,
   "metadata": {},
   "outputs": [
    {
     "data": {
      "image/png": "[encoded data removed]",
      "text/plain": [
       "<Figure size 432x288 with 1 Axes>"
      ]
     },
     "metadata": {
      "needs_background": "light"
     },
     "output_type": "display_data"
    }
   ],
   "source": [
    "sns.barplot(data = temp_df, x = grouping_feature, y = \"windspeed\")\n",
    "plt.title(f\"Average windspeed vs {grouping_feature}\")\n",
    "plt.show()"
   ]
  },
  {
   "cell_type": "code",
   "execution_count": 158,
   "metadata": {},
   "outputs": [
    {
     "data": {
      "image/png": "[encoded data removed]",
      "text/plain": [
       "<Figure size 432x288 with 1 Axes>"
      ]
     },
     "metadata": {
      "needs_background": "light"
     },
     "output_type": "display_data"
    }
   ],
   "source": [
    "sns.barplot(data = temp_df, x = grouping_feature, y = \"casual\")\n",
    "plt.title(f\"Number of casual users vs {grouping_feature}\")\n",
    "plt.show()"
   ]
  },
  {
   "cell_type": "code",
   "execution_count": 159,
   "metadata": {},
   "outputs": [
    {
     "data": {
      "image/png": "[encoded data removed]",
      "text/plain": [
       "<Figure size 432x288 with 1 Axes>"
      ]
     },
     "metadata": {
      "needs_background": "light"
     },
     "output_type": "display_data"
    }
   ],
   "source": [
    "sns.barplot(data = temp_df, x = grouping_feature, y = \"registered\")\n",
    "plt.title(f\"Number of registered users vs {grouping_feature}\")\n",
    "plt.show()"
   ]
  },
  {
   "cell_type": "code",
   "execution_count": 160,
   "metadata": {},
   "outputs": [
    {
     "data": {
      "image/png": "[encoded data removed]",
      "text/plain": [
       "<Figure size 432x288 with 1 Axes>"
      ]
     },
     "metadata": {
      "needs_background": "light"
     },
     "output_type": "display_data"
    }
   ],
   "source": [
    "sns.barplot(data = temp_df, x = grouping_feature, y = \"count\")\n",
    "plt.title(f\"Number of total users vs {grouping_feature}\")\n",
    "plt.show()"
   ]
  },
  {
   "cell_type": "markdown",
   "metadata": {},
   "source": [
    "## khjfdhjik"
   ]
  },
  {
   "cell_type": "code",
   "execution_count": 161,
   "metadata": {},
   "outputs": [
    {
     "name": "stdout",
     "output_type": "stream",
     "text": [
      "<class 'pandas.core.frame.DataFrame'>\n",
      "RangeIndex: 10886 entries, 0 to 10885\n",
      "Data columns (total 18 columns):\n",
      " #   Column       Non-Null Count  Dtype         \n",
      "---  ------       --------------  -----         \n",
      " 0   datetime     10886 non-null  datetime64[ns]\n",
      " 1   season       10886 non-null  category      \n",
      " 2   holiday      10886 non-null  category      \n",
      " 3   workingday   10886 non-null  category      \n",
      " 4   weather      10886 non-null  category      \n",
      " 5   temp         10886 non-null  float64       \n",
      " 6   atemp        10886 non-null  float64       \n",
      " 7   humidity     10886 non-null  int64         \n",
      " 8   windspeed    10886 non-null  float64       \n",
      " 9   casual       10886 non-null  int64         \n",
      " 10  registered   10886 non-null  int64         \n",
      " 11  count        10886 non-null  int64         \n",
      " 12  year         10886 non-null  category      \n",
      " 13  month        10886 non-null  category      \n",
      " 14  week         10886 non-null  category      \n",
      " 15  week_day     10886 non-null  category      \n",
      " 16  hour         10886 non-null  category      \n",
      " 17  time_of_day  10886 non-null  object        \n",
      "dtypes: category(9), datetime64[ns](1), float64(3), int64(4), object(1)\n",
      "memory usage: 864.9+ KB\n"
     ]
    }
   ],
   "source": [
    "df.info()"
   ]
  },
  {
   "cell_type": "code",
   "execution_count": null,
   "metadata": {},
   "outputs": [],
   "source": []
  }
 ],
 "metadata": {
  "kernelspec": {
   "display_name": "base",
   "language": "python",
   "name": "python3"
  },
  "language_info": {
   "codemirror_mode": {
    "name": "ipython",
    "version": 3
   },
   "file_extension": ".py",
   "mimetype": "text/x-python",
   "name": "python",
   "nbconvert_exporter": "python",
   "pygments_lexer": "ipython3",
   "version": "3.8.8"
  }
 },
 "nbformat": 4,
 "nbformat_minor": 2
}
